{
  "nbformat": 4,
  "nbformat_minor": 0,
  "metadata": {
    "colab": {
      "provenance": []
    },
    "kernelspec": {
      "name": "python3",
      "display_name": "Python 3"
    },
    "language_info": {
      "name": "python"
    }
  },
  "cells": [
    {
      "cell_type": "code",
      "execution_count": 2,
      "metadata": {
        "colab": {
          "base_uri": "https://localhost:8080/"
        },
        "id": "S73_CMisfQpb",
        "outputId": "4e04a4ab-2915-4af3-97f0-bd35bcb18376"
      },
      "outputs": [
        {
          "output_type": "stream",
          "name": "stdout",
          "text": [
            "Collecting pypdf\n",
            "  Downloading pypdf-4.2.0-py3-none-any.whl (290 kB)\n",
            "\u001b[2K     \u001b[90m━━━━━━━━━━━━━━━━━━━━━━━━━━━━━━━━━━━━━━━━\u001b[0m \u001b[32m290.4/290.4 kB\u001b[0m \u001b[31m2.7 MB/s\u001b[0m eta \u001b[36m0:00:00\u001b[0m\n",
            "\u001b[?25hRequirement already satisfied: typing_extensions>=4.0 in /usr/local/lib/python3.10/dist-packages (from pypdf) (4.11.0)\n",
            "Installing collected packages: pypdf\n",
            "Successfully installed pypdf-4.2.0\n"
          ]
        }
      ],
      "source": [
        "pip install pypdf"
      ]
    },
    {
      "cell_type": "code",
      "source": [
        "pip install langchain-community"
      ],
      "metadata": {
        "colab": {
          "base_uri": "https://localhost:8080/"
        },
        "id": "GwlrRAK4hmEf",
        "outputId": "b2c400d6-6df6-417d-f757-d32917330fbb"
      },
      "execution_count": 3,
      "outputs": [
        {
          "output_type": "stream",
          "name": "stdout",
          "text": [
            "Collecting langchain-community\n",
            "  Downloading langchain_community-0.0.36-py3-none-any.whl (2.0 MB)\n",
            "\u001b[2K     \u001b[90m━━━━━━━━━━━━━━━━━━━━━━━━━━━━━━━━━━━━━━━━\u001b[0m \u001b[32m2.0/2.0 MB\u001b[0m \u001b[31m8.5 MB/s\u001b[0m eta \u001b[36m0:00:00\u001b[0m\n",
            "\u001b[?25hRequirement already satisfied: PyYAML>=5.3 in /usr/local/lib/python3.10/dist-packages (from langchain-community) (6.0.1)\n",
            "Requirement already satisfied: SQLAlchemy<3,>=1.4 in /usr/local/lib/python3.10/dist-packages (from langchain-community) (2.0.29)\n",
            "Requirement already satisfied: aiohttp<4.0.0,>=3.8.3 in /usr/local/lib/python3.10/dist-packages (from langchain-community) (3.9.5)\n",
            "Collecting dataclasses-json<0.7,>=0.5.7 (from langchain-community)\n",
            "  Downloading dataclasses_json-0.6.5-py3-none-any.whl (28 kB)\n",
            "Collecting langchain-core<0.2.0,>=0.1.48 (from langchain-community)\n",
            "  Downloading langchain_core-0.1.50-py3-none-any.whl (302 kB)\n",
            "\u001b[2K     \u001b[90m━━━━━━━━━━━━━━━━━━━━━━━━━━━━━━━━━━━━━━━━\u001b[0m \u001b[32m302.8/302.8 kB\u001b[0m \u001b[31m14.7 MB/s\u001b[0m eta \u001b[36m0:00:00\u001b[0m\n",
            "\u001b[?25hCollecting langsmith<0.2.0,>=0.1.0 (from langchain-community)\n",
            "  Downloading langsmith-0.1.54-py3-none-any.whl (116 kB)\n",
            "\u001b[2K     \u001b[90m━━━━━━━━━━━━━━━━━━━━━━━━━━━━━━━━━━━━━━━━\u001b[0m \u001b[32m116.7/116.7 kB\u001b[0m \u001b[31m12.5 MB/s\u001b[0m eta \u001b[36m0:00:00\u001b[0m\n",
            "\u001b[?25hRequirement already satisfied: numpy<2,>=1 in /usr/local/lib/python3.10/dist-packages (from langchain-community) (1.25.2)\n",
            "Requirement already satisfied: requests<3,>=2 in /usr/local/lib/python3.10/dist-packages (from langchain-community) (2.31.0)\n",
            "Requirement already satisfied: tenacity<9.0.0,>=8.1.0 in /usr/local/lib/python3.10/dist-packages (from langchain-community) (8.2.3)\n",
            "Requirement already satisfied: aiosignal>=1.1.2 in /usr/local/lib/python3.10/dist-packages (from aiohttp<4.0.0,>=3.8.3->langchain-community) (1.3.1)\n",
            "Requirement already satisfied: attrs>=17.3.0 in /usr/local/lib/python3.10/dist-packages (from aiohttp<4.0.0,>=3.8.3->langchain-community) (23.2.0)\n",
            "Requirement already satisfied: frozenlist>=1.1.1 in /usr/local/lib/python3.10/dist-packages (from aiohttp<4.0.0,>=3.8.3->langchain-community) (1.4.1)\n",
            "Requirement already satisfied: multidict<7.0,>=4.5 in /usr/local/lib/python3.10/dist-packages (from aiohttp<4.0.0,>=3.8.3->langchain-community) (6.0.5)\n",
            "Requirement already satisfied: yarl<2.0,>=1.0 in /usr/local/lib/python3.10/dist-packages (from aiohttp<4.0.0,>=3.8.3->langchain-community) (1.9.4)\n",
            "Requirement already satisfied: async-timeout<5.0,>=4.0 in /usr/local/lib/python3.10/dist-packages (from aiohttp<4.0.0,>=3.8.3->langchain-community) (4.0.3)\n",
            "Collecting marshmallow<4.0.0,>=3.18.0 (from dataclasses-json<0.7,>=0.5.7->langchain-community)\n",
            "  Downloading marshmallow-3.21.2-py3-none-any.whl (49 kB)\n",
            "\u001b[2K     \u001b[90m━━━━━━━━━━━━━━━━━━━━━━━━━━━━━━━━━━━━━━━━\u001b[0m \u001b[32m49.3/49.3 kB\u001b[0m \u001b[31m4.0 MB/s\u001b[0m eta \u001b[36m0:00:00\u001b[0m\n",
            "\u001b[?25hCollecting typing-inspect<1,>=0.4.0 (from dataclasses-json<0.7,>=0.5.7->langchain-community)\n",
            "  Downloading typing_inspect-0.9.0-py3-none-any.whl (8.8 kB)\n",
            "Collecting jsonpatch<2.0,>=1.33 (from langchain-core<0.2.0,>=0.1.48->langchain-community)\n",
            "  Downloading jsonpatch-1.33-py2.py3-none-any.whl (12 kB)\n",
            "Collecting packaging<24.0,>=23.2 (from langchain-core<0.2.0,>=0.1.48->langchain-community)\n",
            "  Downloading packaging-23.2-py3-none-any.whl (53 kB)\n",
            "\u001b[2K     \u001b[90m━━━━━━━━━━━━━━━━━━━━━━━━━━━━━━━━━━━━━━━━\u001b[0m \u001b[32m53.0/53.0 kB\u001b[0m \u001b[31m4.6 MB/s\u001b[0m eta \u001b[36m0:00:00\u001b[0m\n",
            "\u001b[?25hRequirement already satisfied: pydantic<3,>=1 in /usr/local/lib/python3.10/dist-packages (from langchain-core<0.2.0,>=0.1.48->langchain-community) (2.7.1)\n",
            "Collecting orjson<4.0.0,>=3.9.14 (from langsmith<0.2.0,>=0.1.0->langchain-community)\n",
            "  Downloading orjson-3.10.3-cp310-cp310-manylinux_2_17_x86_64.manylinux2014_x86_64.whl (142 kB)\n",
            "\u001b[2K     \u001b[90m━━━━━━━━━━━━━━━━━━━━━━━━━━━━━━━━━━━━━━━━\u001b[0m \u001b[32m142.5/142.5 kB\u001b[0m \u001b[31m4.0 MB/s\u001b[0m eta \u001b[36m0:00:00\u001b[0m\n",
            "\u001b[?25hRequirement already satisfied: charset-normalizer<4,>=2 in /usr/local/lib/python3.10/dist-packages (from requests<3,>=2->langchain-community) (3.3.2)\n",
            "Requirement already satisfied: idna<4,>=2.5 in /usr/local/lib/python3.10/dist-packages (from requests<3,>=2->langchain-community) (3.7)\n",
            "Requirement already satisfied: urllib3<3,>=1.21.1 in /usr/local/lib/python3.10/dist-packages (from requests<3,>=2->langchain-community) (2.0.7)\n",
            "Requirement already satisfied: certifi>=2017.4.17 in /usr/local/lib/python3.10/dist-packages (from requests<3,>=2->langchain-community) (2024.2.2)\n",
            "Requirement already satisfied: typing-extensions>=4.6.0 in /usr/local/lib/python3.10/dist-packages (from SQLAlchemy<3,>=1.4->langchain-community) (4.11.0)\n",
            "Requirement already satisfied: greenlet!=0.4.17 in /usr/local/lib/python3.10/dist-packages (from SQLAlchemy<3,>=1.4->langchain-community) (3.0.3)\n",
            "Collecting jsonpointer>=1.9 (from jsonpatch<2.0,>=1.33->langchain-core<0.2.0,>=0.1.48->langchain-community)\n",
            "  Downloading jsonpointer-2.4-py2.py3-none-any.whl (7.8 kB)\n",
            "Requirement already satisfied: annotated-types>=0.4.0 in /usr/local/lib/python3.10/dist-packages (from pydantic<3,>=1->langchain-core<0.2.0,>=0.1.48->langchain-community) (0.6.0)\n",
            "Requirement already satisfied: pydantic-core==2.18.2 in /usr/local/lib/python3.10/dist-packages (from pydantic<3,>=1->langchain-core<0.2.0,>=0.1.48->langchain-community) (2.18.2)\n",
            "Collecting mypy-extensions>=0.3.0 (from typing-inspect<1,>=0.4.0->dataclasses-json<0.7,>=0.5.7->langchain-community)\n",
            "  Downloading mypy_extensions-1.0.0-py3-none-any.whl (4.7 kB)\n",
            "Installing collected packages: packaging, orjson, mypy-extensions, jsonpointer, typing-inspect, marshmallow, jsonpatch, langsmith, dataclasses-json, langchain-core, langchain-community\n",
            "  Attempting uninstall: packaging\n",
            "    Found existing installation: packaging 24.0\n",
            "    Uninstalling packaging-24.0:\n",
            "      Successfully uninstalled packaging-24.0\n",
            "Successfully installed dataclasses-json-0.6.5 jsonpatch-1.33 jsonpointer-2.4 langchain-community-0.0.36 langchain-core-0.1.50 langsmith-0.1.54 marshmallow-3.21.2 mypy-extensions-1.0.0 orjson-3.10.3 packaging-23.2 typing-inspect-0.9.0\n"
          ]
        }
      ]
    },
    {
      "cell_type": "code",
      "source": [
        "pip install langchain[text-splitters]"
      ],
      "metadata": {
        "colab": {
          "base_uri": "https://localhost:8080/"
        },
        "id": "Se26sW0yh4LT",
        "outputId": "6610b59d-f918-4a31-9cf4-833f84ab47d3"
      },
      "execution_count": 4,
      "outputs": [
        {
          "output_type": "stream",
          "name": "stdout",
          "text": [
            "Collecting langchain[text-splitters]\n",
            "  Downloading langchain-0.1.17-py3-none-any.whl (867 kB)\n",
            "\u001b[2K     \u001b[90m━━━━━━━━━━━━━━━━━━━━━━━━━━━━━━━━━━━━━━━━\u001b[0m \u001b[32m867.6/867.6 kB\u001b[0m \u001b[31m3.9 MB/s\u001b[0m eta \u001b[36m0:00:00\u001b[0m\n",
            "\u001b[?25h\u001b[33mWARNING: langchain 0.1.17 does not provide the extra 'text-splitters'\u001b[0m\u001b[33m\n",
            "\u001b[0mRequirement already satisfied: PyYAML>=5.3 in /usr/local/lib/python3.10/dist-packages (from langchain[text-splitters]) (6.0.1)\n",
            "Requirement already satisfied: SQLAlchemy<3,>=1.4 in /usr/local/lib/python3.10/dist-packages (from langchain[text-splitters]) (2.0.29)\n",
            "Requirement already satisfied: aiohttp<4.0.0,>=3.8.3 in /usr/local/lib/python3.10/dist-packages (from langchain[text-splitters]) (3.9.5)\n",
            "Requirement already satisfied: async-timeout<5.0.0,>=4.0.0 in /usr/local/lib/python3.10/dist-packages (from langchain[text-splitters]) (4.0.3)\n",
            "Requirement already satisfied: dataclasses-json<0.7,>=0.5.7 in /usr/local/lib/python3.10/dist-packages (from langchain[text-splitters]) (0.6.5)\n",
            "Requirement already satisfied: jsonpatch<2.0,>=1.33 in /usr/local/lib/python3.10/dist-packages (from langchain[text-splitters]) (1.33)\n",
            "Requirement already satisfied: langchain-community<0.1,>=0.0.36 in /usr/local/lib/python3.10/dist-packages (from langchain[text-splitters]) (0.0.36)\n",
            "Requirement already satisfied: langchain-core<0.2.0,>=0.1.48 in /usr/local/lib/python3.10/dist-packages (from langchain[text-splitters]) (0.1.50)\n",
            "Collecting langchain-text-splitters<0.1,>=0.0.1 (from langchain[text-splitters])\n",
            "  Downloading langchain_text_splitters-0.0.1-py3-none-any.whl (21 kB)\n",
            "Requirement already satisfied: langsmith<0.2.0,>=0.1.17 in /usr/local/lib/python3.10/dist-packages (from langchain[text-splitters]) (0.1.54)\n",
            "Requirement already satisfied: numpy<2,>=1 in /usr/local/lib/python3.10/dist-packages (from langchain[text-splitters]) (1.25.2)\n",
            "Requirement already satisfied: pydantic<3,>=1 in /usr/local/lib/python3.10/dist-packages (from langchain[text-splitters]) (2.7.1)\n",
            "Requirement already satisfied: requests<3,>=2 in /usr/local/lib/python3.10/dist-packages (from langchain[text-splitters]) (2.31.0)\n",
            "Requirement already satisfied: tenacity<9.0.0,>=8.1.0 in /usr/local/lib/python3.10/dist-packages (from langchain[text-splitters]) (8.2.3)\n",
            "Requirement already satisfied: aiosignal>=1.1.2 in /usr/local/lib/python3.10/dist-packages (from aiohttp<4.0.0,>=3.8.3->langchain[text-splitters]) (1.3.1)\n",
            "Requirement already satisfied: attrs>=17.3.0 in /usr/local/lib/python3.10/dist-packages (from aiohttp<4.0.0,>=3.8.3->langchain[text-splitters]) (23.2.0)\n",
            "Requirement already satisfied: frozenlist>=1.1.1 in /usr/local/lib/python3.10/dist-packages (from aiohttp<4.0.0,>=3.8.3->langchain[text-splitters]) (1.4.1)\n",
            "Requirement already satisfied: multidict<7.0,>=4.5 in /usr/local/lib/python3.10/dist-packages (from aiohttp<4.0.0,>=3.8.3->langchain[text-splitters]) (6.0.5)\n",
            "Requirement already satisfied: yarl<2.0,>=1.0 in /usr/local/lib/python3.10/dist-packages (from aiohttp<4.0.0,>=3.8.3->langchain[text-splitters]) (1.9.4)\n",
            "Requirement already satisfied: marshmallow<4.0.0,>=3.18.0 in /usr/local/lib/python3.10/dist-packages (from dataclasses-json<0.7,>=0.5.7->langchain[text-splitters]) (3.21.2)\n",
            "Requirement already satisfied: typing-inspect<1,>=0.4.0 in /usr/local/lib/python3.10/dist-packages (from dataclasses-json<0.7,>=0.5.7->langchain[text-splitters]) (0.9.0)\n",
            "Requirement already satisfied: jsonpointer>=1.9 in /usr/local/lib/python3.10/dist-packages (from jsonpatch<2.0,>=1.33->langchain[text-splitters]) (2.4)\n",
            "Requirement already satisfied: packaging<24.0,>=23.2 in /usr/local/lib/python3.10/dist-packages (from langchain-core<0.2.0,>=0.1.48->langchain[text-splitters]) (23.2)\n",
            "Requirement already satisfied: orjson<4.0.0,>=3.9.14 in /usr/local/lib/python3.10/dist-packages (from langsmith<0.2.0,>=0.1.17->langchain[text-splitters]) (3.10.3)\n",
            "Requirement already satisfied: annotated-types>=0.4.0 in /usr/local/lib/python3.10/dist-packages (from pydantic<3,>=1->langchain[text-splitters]) (0.6.0)\n",
            "Requirement already satisfied: pydantic-core==2.18.2 in /usr/local/lib/python3.10/dist-packages (from pydantic<3,>=1->langchain[text-splitters]) (2.18.2)\n",
            "Requirement already satisfied: typing-extensions>=4.6.1 in /usr/local/lib/python3.10/dist-packages (from pydantic<3,>=1->langchain[text-splitters]) (4.11.0)\n",
            "Requirement already satisfied: charset-normalizer<4,>=2 in /usr/local/lib/python3.10/dist-packages (from requests<3,>=2->langchain[text-splitters]) (3.3.2)\n",
            "Requirement already satisfied: idna<4,>=2.5 in /usr/local/lib/python3.10/dist-packages (from requests<3,>=2->langchain[text-splitters]) (3.7)\n",
            "Requirement already satisfied: urllib3<3,>=1.21.1 in /usr/local/lib/python3.10/dist-packages (from requests<3,>=2->langchain[text-splitters]) (2.0.7)\n",
            "Requirement already satisfied: certifi>=2017.4.17 in /usr/local/lib/python3.10/dist-packages (from requests<3,>=2->langchain[text-splitters]) (2024.2.2)\n",
            "Requirement already satisfied: greenlet!=0.4.17 in /usr/local/lib/python3.10/dist-packages (from SQLAlchemy<3,>=1.4->langchain[text-splitters]) (3.0.3)\n",
            "Requirement already satisfied: mypy-extensions>=0.3.0 in /usr/local/lib/python3.10/dist-packages (from typing-inspect<1,>=0.4.0->dataclasses-json<0.7,>=0.5.7->langchain[text-splitters]) (1.0.0)\n",
            "Installing collected packages: langchain-text-splitters, langchain\n",
            "Successfully installed langchain-0.1.17 langchain-text-splitters-0.0.1\n"
          ]
        }
      ]
    },
    {
      "cell_type": "code",
      "source": [
        "!pip install pypandoc"
      ],
      "metadata": {
        "colab": {
          "base_uri": "https://localhost:8080/"
        },
        "id": "TfybXDksfU_k",
        "outputId": "7a9f8b9d-4f4a-4312-84ce-011a2c107ef4"
      },
      "execution_count": 5,
      "outputs": [
        {
          "output_type": "stream",
          "name": "stdout",
          "text": [
            "Collecting pypandoc\n",
            "  Downloading pypandoc-1.13-py3-none-any.whl (21 kB)\n",
            "Installing collected packages: pypandoc\n",
            "Successfully installed pypandoc-1.13\n"
          ]
        }
      ]
    },
    {
      "cell_type": "code",
      "source": [
        "pip install PyPDF2"
      ],
      "metadata": {
        "colab": {
          "base_uri": "https://localhost:8080/"
        },
        "id": "XXG62p0hguJQ",
        "outputId": "bb00f5a8-5256-4fb0-9b8a-c99606177bfa"
      },
      "execution_count": 6,
      "outputs": [
        {
          "output_type": "stream",
          "name": "stdout",
          "text": [
            "Collecting PyPDF2\n",
            "  Downloading pypdf2-3.0.1-py3-none-any.whl (232 kB)\n",
            "\u001b[2K     \u001b[90m━━━━━━━━━━━━━━━━━━━━━━━━━━━━━━━━━━━━━━━━\u001b[0m \u001b[32m232.6/232.6 kB\u001b[0m \u001b[31m2.4 MB/s\u001b[0m eta \u001b[36m0:00:00\u001b[0m\n",
            "\u001b[?25hInstalling collected packages: PyPDF2\n",
            "Successfully installed PyPDF2-3.0.1\n"
          ]
        }
      ]
    },
    {
      "cell_type": "code",
      "source": [
        "pip install PDFMiner.six"
      ],
      "metadata": {
        "colab": {
          "base_uri": "https://localhost:8080/"
        },
        "id": "j2sXGTwggyB7",
        "outputId": "581567eb-6f6e-4180-ef96-f576f71d563d"
      },
      "execution_count": 7,
      "outputs": [
        {
          "output_type": "stream",
          "name": "stdout",
          "text": [
            "Collecting PDFMiner.six\n",
            "  Downloading pdfminer.six-20231228-py3-none-any.whl (5.6 MB)\n",
            "\u001b[2K     \u001b[90m━━━━━━━━━━━━━━━━━━━━━━━━━━━━━━━━━━━━━━━━\u001b[0m \u001b[32m5.6/5.6 MB\u001b[0m \u001b[31m16.7 MB/s\u001b[0m eta \u001b[36m0:00:00\u001b[0m\n",
            "\u001b[?25hRequirement already satisfied: charset-normalizer>=2.0.0 in /usr/local/lib/python3.10/dist-packages (from PDFMiner.six) (3.3.2)\n",
            "Requirement already satisfied: cryptography>=36.0.0 in /usr/local/lib/python3.10/dist-packages (from PDFMiner.six) (42.0.5)\n",
            "Requirement already satisfied: cffi>=1.12 in /usr/local/lib/python3.10/dist-packages (from cryptography>=36.0.0->PDFMiner.six) (1.16.0)\n",
            "Requirement already satisfied: pycparser in /usr/local/lib/python3.10/dist-packages (from cffi>=1.12->cryptography>=36.0.0->PDFMiner.six) (2.22)\n",
            "Installing collected packages: PDFMiner.six\n",
            "Successfully installed PDFMiner.six-20231228\n"
          ]
        }
      ]
    },
    {
      "cell_type": "markdown",
      "source": [
        "**Reading the Amex Creditcard statement PDF Document**"
      ],
      "metadata": {
        "id": "tCUGKZNhw0Fw"
      }
    },
    {
      "cell_type": "code",
      "source": [
        "from langchain_community.document_loaders import PyPDFLoader\n",
        "import os\n",
        "\n",
        "pdf_path = \"/content/04-28-2024.pdf\"\n",
        "pdf_name = os.path.splitext(os.path.basename(pdf_path))[0]\n",
        "print(pdf_name)\n",
        "\n",
        "\n",
        "loader = PyPDFLoader(pdf_path)\n",
        "pages = loader.load_and_split()"
      ],
      "metadata": {
        "id": "UhoCNc9pfh_n",
        "colab": {
          "base_uri": "https://localhost:8080/"
        },
        "outputId": "05f7f5a4-3fc0-4822-ff47-84963d796385"
      },
      "execution_count": 9,
      "outputs": [
        {
          "output_type": "stream",
          "name": "stdout",
          "text": [
            "04-28-2024\n"
          ]
        }
      ]
    },
    {
      "cell_type": "code",
      "source": [
        "pages[5]"
      ],
      "metadata": {
        "colab": {
          "base_uri": "https://localhost:8080/"
        },
        "id": "8p8csm9OKlez",
        "outputId": "b1394986-084a-445f-d4c3-b2e37ff2c95c"
      },
      "execution_count": 11,
      "outputs": [
        {
          "output_type": "execute_result",
          "data": {
            "text/plain": [
              "Document(page_content=\"04/03/24 LAFITNESS CORP INTL IRVINE CA\\nMEMBERSHIP FEES$10.00\\n04/03/24 AplPay COMCAST CHICAGO CS1X (800)266-2278 IL\\nCABLE SVCS$25.00\\n04/07/24 SPOTIFY USA NEW YORK NY\\nDIRECT MKTG MISC$6.53\\n04/07/24 AplPay JEWEL OSCO 3443 3443 CHICAGO IL\\n800-898-4027$20.11\\n04/08/24 BROADWAY ARMORY 0000 CHICAGO IL\\n312-274-2146$2.00\\n04/08/24 AplPay DUNKIN #343280 Q35 3432 CHICAGO IL\\n773-988-6639$8.14\\n04/08/24 AplPay TARGET 032722 09100032722 CHICAGO IL\\n612-3044357$9.47\\n04/09/24 AplPay TARGET 020792 09100020792 CHICAGO IL\\n612-3044357$13.95\\n04/09/24 AplPay TARGET 020792 09100020792 CHICAGO IL\\n612-3044357$19.49\\n04/10/24 Amazon Prime Amazon.com WA\\nSUBSCRIPTION$7.49\\n04/12/24 SAM'S CLUB 6444 6444 EVANSTON IL\\nWHOLESALE CLUB$228.63\\n04/12/24 SAM'S CLUB 6444 6444 EVANSTON IL\\nWHOLESALE CLUB$11.62\\n04/12/24 PARKINGMETER1 8772427901 0007 CHICAGO IL\\n877-242-7901$2.75\\n04/13/24 AplPay PAYRANGE MOBILE 0000 PORTLAND OR\\n855-856-6398$25.00\\n04/13/24 AplPay FARM SUPERMARKET 941600820178335 CHICAGO IL\\nFAWZISULEIMAN@GMAIL.COM$19.68\\n04/13/24 USMANIA FINE DINING CHICAGO IL\\n773-716-9874$91.59\\n04/14/24 CHICAGO BOTANIC GARD GLENCOE IL\\n001080000009859 60022$10.00\\n04/16/24 USCIS I-765 000000055 WASHINGTON DC\\nX7CLFOFHCQHODX 20529\\nImmigration applications and petitions$470.00\\n04/17/24 AplPay CHIPOTLE ONLINE 0000 NEWPORT BEACH CA\\n949-524-4000$12.73\\n04/18/24 CHATGPT SUBSCRIPTION SAN FRANCISCO CA\\n+14158799686$21.80\\n04/22/24 AplPay APPLE.COM/BILL INTERNET CHARGE CA\\nRECORD STORE$2.99\\n04/23/24 AplPay JEWEL OSCO 3443 3443 CHICAGO IL\\n800-898-4027$61.81\\n04/24/24 AplPay TST* LAMEXICANA GRILL 00079752 CHICAGO IL\\nRESTAURANT$47.05\\n04/25/24 AplPay PATEL BROTHERS 000000001 CHICAGO IL\\n7732627777$45.16\\n04/28/24 NETFLIX.COM 866-579-7172 CA\\nSUBSCRIPTION$25.06\\nContinued onnext pagep.4/7 JABIN RAVINBALAN Account Ending 8-11003\\nAmountDetail Continued\", metadata={'source': '/content/04-28-2024.pdf', 'page': 3})"
            ]
          },
          "metadata": {},
          "execution_count": 11
        }
      ]
    },
    {
      "cell_type": "markdown",
      "source": [
        "**By Understanding the PDF, Determining the Start and end page of Transaction**"
      ],
      "metadata": {
        "id": "mk6WO0X8yd3t"
      }
    },
    {
      "cell_type": "code",
      "source": [
        "contentStartPage = 1\n",
        "maxlength = int(len(pages)-1)\n",
        "start_marker = \"Card Ending xx-xxxxx\"\n",
        "end_marker = \"Continued onnext\"\n",
        "startofpages= 0\n",
        "endofpages = 0\n",
        "\n",
        "# To find the beginning of the transactions\n",
        "for i in range(2,maxlength):\n",
        "  temp = pages[i].page_content\n",
        "  start_pos = temp.find(start_marker)\n",
        "  #end_pos = temp.find(end_marker)\n",
        "  if (start_pos > 0):\n",
        "    startofpages = i\n",
        "    contentStartPage += 1\n",
        "    break;\n",
        "\n",
        "# To find the end of the transactions\n",
        "for i in range(maxlength,2,-1):\n",
        "  temp = pages[i].page_content\n",
        "  end_pos = temp.find(end_marker)\n",
        "  if (end_pos > 0):\n",
        "    endofpages = i\n",
        "    contentStartPage += 1\n",
        "    break;\n"
      ],
      "metadata": {
        "id": "ApQ1t21O7_FO"
      },
      "execution_count": 12,
      "outputs": []
    },
    {
      "cell_type": "code",
      "source": [
        "startofpages"
      ],
      "metadata": {
        "colab": {
          "base_uri": "https://localhost:8080/"
        },
        "id": "gZ3svsh_OxYv",
        "outputId": "4b8e21d6-8a75-4a29-dc5b-4407c6ab8cfb"
      },
      "execution_count": 13,
      "outputs": [
        {
          "output_type": "execute_result",
          "data": {
            "text/plain": [
              "4"
            ]
          },
          "metadata": {},
          "execution_count": 13
        }
      ]
    },
    {
      "cell_type": "code",
      "source": [
        "endofpages"
      ],
      "metadata": {
        "colab": {
          "base_uri": "https://localhost:8080/"
        },
        "id": "CsbpX-b3K78K",
        "outputId": "05227a5f-dddc-4e09-c5db-8e88013c2730"
      },
      "execution_count": 14,
      "outputs": [
        {
          "output_type": "execute_result",
          "data": {
            "text/plain": [
              "5"
            ]
          },
          "metadata": {},
          "execution_count": 14
        }
      ]
    },
    {
      "cell_type": "markdown",
      "source": [
        "## **Extraction of Data**"
      ],
      "metadata": {
        "id": "XXBUKhcGVtxu"
      }
    },
    {
      "cell_type": "code",
      "source": [
        "import re\n",
        "import pandas as pd\n",
        "\n",
        "def extract_transaction_data(text):\n",
        "    # Define regex patterns for extracting data\n",
        "    date_pattern = r\"\\d{2}/\\d{2}/\\d{2}\"\n",
        "    amount_pattern = r\"\\$\\d+\\.\\d{2}\"\n",
        "    name_pattern = r\"(?<=\\d{2}/\\d{2}/\\d{2} ).*(?=\\n)\"\n",
        "\n",
        "    # Find all occurrences of date, name, and amount\n",
        "    dates = re.findall(date_pattern, text)\n",
        "    names = re.findall(name_pattern, text)\n",
        "    amounts = re.findall(amount_pattern, text)\n",
        "\n",
        "    # Create a DataFrame from the extracted data\n",
        "    data = list(zip(dates, names, amounts))\n",
        "    df = pd.DataFrame(data, columns=[\"date\", \"name\", \"amount\"])\n",
        "    return df"
      ],
      "metadata": {
        "id": "WVZWVZodFswu"
      },
      "execution_count": 15,
      "outputs": []
    },
    {
      "cell_type": "markdown",
      "source": [
        "## **Handling the start of Transaction**"
      ],
      "metadata": {
        "id": "8C90UHPJUvAO"
      }
    },
    {
      "cell_type": "code",
      "source": [
        "import re\n",
        "import pandas as pd\n",
        "\n",
        "text = pages[startofpages].page_content\n",
        "\n",
        "pattern = r\"(?<=Card Ending 8-11003)(.*?)(?=Continued)\"\n",
        "\n",
        "# Extract the relevant portion of the text\n",
        "extracted_text = re.search(pattern, text, re.DOTALL)\n",
        "\n",
        "if extracted_text:\n",
        "    # Define regex patterns for extracting data\n",
        "    date_pattern = r\"\\d{2}/\\d{2}/\\d{2}\"\n",
        "    amount_pattern = r\"\\$\\d+\\.\\d{2}\"\n",
        "    name_pattern = r\"(?<=\\d{2}/\\d{2}/\\d{2} ).*(?=\\n)\"\n",
        "\n",
        "    # Find all occurrences of date, name, and amount\n",
        "    dates = re.findall(date_pattern, extracted_text.group())\n",
        "    names = re.findall(name_pattern, extracted_text.group())\n",
        "    amounts = re.findall(amount_pattern, extracted_text.group())\n",
        "\n",
        "    # Create a DataFrame from the extracted data\n",
        "    data = list(zip(dates, names, amounts))\n",
        "    firstdf = pd.DataFrame(data, columns=[\"date\", \"name\", \"amount\"])\n",
        "    print(firstdf)\n",
        "else:\n",
        "    print(\"Pattern not found in the text\")"
      ],
      "metadata": {
        "colab": {
          "base_uri": "https://localhost:8080/"
        },
        "id": "OxplmXjCGgni",
        "outputId": "66b6abb7-950d-4f2a-df43-98c83d06672a"
      },
      "execution_count": 16,
      "outputs": [
        {
          "output_type": "stream",
          "name": "stdout",
          "text": [
            "       date                                               name  amount\n",
            "0  03/25/24  DISPUTE CRREVERSAL -AplPay HERTZ CAR RENTAL $7...  $72.88\n",
            "1  04/01/24             COMMONWEALTH EDISON COMPANY CHICAGO IL  $25.89\n",
            "2  04/01/24                      LOT AEPS 000000045 CHICAGO IL   $3.00\n",
            "3  04/02/24                           AplPay SUBWAY CHICAGO IL  $20.17\n",
            "4  04/02/24                          STARBUCKS 800-782-7282 WA   $6.59\n",
            "5  04/02/24         AplPay PATEL BROTHERS 000000001 CHICAGO IL  $61.90\n"
          ]
        }
      ]
    },
    {
      "cell_type": "markdown",
      "source": [
        "## **Handling the End of Transaction**"
      ],
      "metadata": {
        "id": "50YHlHZrHCxd"
      }
    },
    {
      "cell_type": "code",
      "source": [
        "beginpg = startofpages+1  # To eliminate the first page as it has other parameters\n",
        "endingpg = endofpages+1  # To stop at the exact point\n",
        "merged_df = pd.DataFrame(columns=[\"date\", \"name\", \"amount\"])  # Initialize an empty DataFrame to store merged data\n",
        "\n",
        "if beginpg == endingpg:\n",
        "  endingpg = endingpg+1\n",
        "\n",
        "for i in range(beginpg, endingpg):\n",
        "    text = pages[i].page_content\n",
        "\n",
        "    # Find the index of \"Continued\" and exclude everything after it\n",
        "    index_continued = text.find(\"Continued\")\n",
        "    if index_continued != -1:\n",
        "        text = text[:index_continued]\n",
        "\n",
        "    # Extract data using the function\n",
        "    df = extract_transaction_data(text)\n",
        "\n",
        "    # Merge the extracted data with the existing data\n",
        "    merged_df = pd.concat([merged_df, df], ignore_index=True)\n",
        "\n",
        "# Print the merged DataFrame\n",
        "print(merged_df)"
      ],
      "metadata": {
        "colab": {
          "base_uri": "https://localhost:8080/"
        },
        "id": "lNhKnmOQBNad",
        "outputId": "736c1ab9-f9db-49f7-aea6-c82167345377"
      },
      "execution_count": 17,
      "outputs": [
        {
          "output_type": "stream",
          "name": "stdout",
          "text": [
            "        date                                               name   amount\n",
            "0   04/03/24                      LAFITNESS CORP INTL IRVINE CA   $10.00\n",
            "1   04/03/24       AplPay COMCAST CHICAGO CS1X (800)266-2278 IL   $25.00\n",
            "2   04/07/24                            SPOTIFY USA NEW YORK NY    $6.53\n",
            "3   04/07/24             AplPay JEWEL OSCO 3443 3443 CHICAGO IL   $20.11\n",
            "4   04/08/24                    BROADWAY ARMORY 0000 CHICAGO IL    $2.00\n",
            "5   04/08/24          AplPay DUNKIN #343280 Q35 3432 CHICAGO IL    $8.14\n",
            "6   04/08/24        AplPay TARGET 032722 09100032722 CHICAGO IL    $9.47\n",
            "7   04/09/24        AplPay TARGET 020792 09100020792 CHICAGO IL   $13.95\n",
            "8   04/09/24        AplPay TARGET 020792 09100020792 CHICAGO IL   $19.49\n",
            "9   04/10/24                         Amazon Prime Amazon.com WA    $7.49\n",
            "10  04/12/24                   SAM'S CLUB 6444 6444 EVANSTON IL  $228.63\n",
            "11  04/12/24                   SAM'S CLUB 6444 6444 EVANSTON IL   $11.62\n",
            "12  04/12/24           PARKINGMETER1 8772427901 0007 CHICAGO IL    $2.75\n",
            "13  04/13/24            AplPay PAYRANGE MOBILE 0000 PORTLAND OR   $25.00\n",
            "14  04/13/24  AplPay FARM SUPERMARKET 941600820178335 CHICAG...   $19.68\n",
            "15  04/13/24                     USMANIA FINE DINING CHICAGO IL   $91.59\n",
            "16  04/14/24                    CHICAGO BOTANIC GARD GLENCOE IL   $10.00\n",
            "17  04/16/24                USCIS I-765 000000055 WASHINGTON DC  $470.00\n",
            "18  04/17/24       AplPay CHIPOTLE ONLINE 0000 NEWPORT BEACH CA   $12.73\n",
            "19  04/18/24              CHATGPT SUBSCRIPTION SAN FRANCISCO CA   $21.80\n",
            "20  04/22/24           AplPay APPLE.COM/BILL INTERNET CHARGE CA    $2.99\n",
            "21  04/23/24             AplPay JEWEL OSCO 3443 3443 CHICAGO IL   $61.81\n",
            "22  04/24/24   AplPay TST* LAMEXICANA GRILL 00079752 CHICAGO IL   $47.05\n",
            "23  04/25/24         AplPay PATEL BROTHERS 000000001 CHICAGO IL   $45.16\n",
            "24  04/28/24                        NETFLIX.COM 866-579-7172 CA   $25.06\n"
          ]
        }
      ]
    },
    {
      "cell_type": "markdown",
      "source": [
        "# **Merging  After Processing from unstructed data**"
      ],
      "metadata": {
        "id": "i4VxPgSnfHaC"
      }
    },
    {
      "cell_type": "code",
      "source": [
        "finance_df = pd.concat([firstdf, merged_df], ignore_index=True)\n",
        "print(finance_df[0:])"
      ],
      "metadata": {
        "colab": {
          "base_uri": "https://localhost:8080/"
        },
        "id": "aLKgUJeBB2NO",
        "outputId": "bf4e01ff-3886-4781-fb62-659092b732cc"
      },
      "execution_count": 18,
      "outputs": [
        {
          "output_type": "stream",
          "name": "stdout",
          "text": [
            "        date                                               name   amount\n",
            "0   03/25/24  DISPUTE CRREVERSAL -AplPay HERTZ CAR RENTAL $7...   $72.88\n",
            "1   04/01/24             COMMONWEALTH EDISON COMPANY CHICAGO IL   $25.89\n",
            "2   04/01/24                      LOT AEPS 000000045 CHICAGO IL    $3.00\n",
            "3   04/02/24                           AplPay SUBWAY CHICAGO IL   $20.17\n",
            "4   04/02/24                          STARBUCKS 800-782-7282 WA    $6.59\n",
            "5   04/02/24         AplPay PATEL BROTHERS 000000001 CHICAGO IL   $61.90\n",
            "6   04/03/24                      LAFITNESS CORP INTL IRVINE CA   $10.00\n",
            "7   04/03/24       AplPay COMCAST CHICAGO CS1X (800)266-2278 IL   $25.00\n",
            "8   04/07/24                            SPOTIFY USA NEW YORK NY    $6.53\n",
            "9   04/07/24             AplPay JEWEL OSCO 3443 3443 CHICAGO IL   $20.11\n",
            "10  04/08/24                    BROADWAY ARMORY 0000 CHICAGO IL    $2.00\n",
            "11  04/08/24          AplPay DUNKIN #343280 Q35 3432 CHICAGO IL    $8.14\n",
            "12  04/08/24        AplPay TARGET 032722 09100032722 CHICAGO IL    $9.47\n",
            "13  04/09/24        AplPay TARGET 020792 09100020792 CHICAGO IL   $13.95\n",
            "14  04/09/24        AplPay TARGET 020792 09100020792 CHICAGO IL   $19.49\n",
            "15  04/10/24                         Amazon Prime Amazon.com WA    $7.49\n",
            "16  04/12/24                   SAM'S CLUB 6444 6444 EVANSTON IL  $228.63\n",
            "17  04/12/24                   SAM'S CLUB 6444 6444 EVANSTON IL   $11.62\n",
            "18  04/12/24           PARKINGMETER1 8772427901 0007 CHICAGO IL    $2.75\n",
            "19  04/13/24            AplPay PAYRANGE MOBILE 0000 PORTLAND OR   $25.00\n",
            "20  04/13/24  AplPay FARM SUPERMARKET 941600820178335 CHICAG...   $19.68\n",
            "21  04/13/24                     USMANIA FINE DINING CHICAGO IL   $91.59\n",
            "22  04/14/24                    CHICAGO BOTANIC GARD GLENCOE IL   $10.00\n",
            "23  04/16/24                USCIS I-765 000000055 WASHINGTON DC  $470.00\n",
            "24  04/17/24       AplPay CHIPOTLE ONLINE 0000 NEWPORT BEACH CA   $12.73\n",
            "25  04/18/24              CHATGPT SUBSCRIPTION SAN FRANCISCO CA   $21.80\n",
            "26  04/22/24           AplPay APPLE.COM/BILL INTERNET CHARGE CA    $2.99\n",
            "27  04/23/24             AplPay JEWEL OSCO 3443 3443 CHICAGO IL   $61.81\n",
            "28  04/24/24   AplPay TST* LAMEXICANA GRILL 00079752 CHICAGO IL   $47.05\n",
            "29  04/25/24         AplPay PATEL BROTHERS 000000001 CHICAGO IL   $45.16\n",
            "30  04/28/24                        NETFLIX.COM 866-579-7172 CA   $25.06\n"
          ]
        }
      ]
    },
    {
      "cell_type": "markdown",
      "source": [
        "Creating variable 'TransactionMethod' to determine what type of payment has been used. For instances, through Internet, Apple pay (Tap), Card (Swiping or tapping card) - This helps to know more which Transaction has high impact."
      ],
      "metadata": {
        "id": "-iWAXgT0frVb"
      }
    },
    {
      "cell_type": "code",
      "source": [
        "def get_transaction_method(name):\n",
        "    if '.com' in name.lower():\n",
        "        return 'Internet'\n",
        "    elif 'aplpay' in name.lower():\n",
        "        return 'Apple Pay'\n",
        "    else:\n",
        "        return 'Card'\n",
        "\n",
        "# Create a new DataFrame with only the TransactionMethod column\n",
        "transaction_method_df = finance_df['name'].apply(get_transaction_method).to_frame(name='TransactionMethod')\n",
        "\n",
        "#transaction_method_df['transaction_id'] = range(1, len(transaction_method_df) + 1)  # Range starts from 1, excludes the upper limit\n",
        "\n",
        "print(transaction_method_df)"
      ],
      "metadata": {
        "id": "g8bpGGlICi53",
        "colab": {
          "base_uri": "https://localhost:8080/"
        },
        "outputId": "8d785be0-9cee-498e-ad72-46395be4f35f"
      },
      "execution_count": 19,
      "outputs": [
        {
          "output_type": "stream",
          "name": "stdout",
          "text": [
            "   TransactionMethod\n",
            "0          Apple Pay\n",
            "1               Card\n",
            "2               Card\n",
            "3          Apple Pay\n",
            "4               Card\n",
            "5          Apple Pay\n",
            "6               Card\n",
            "7          Apple Pay\n",
            "8               Card\n",
            "9          Apple Pay\n",
            "10              Card\n",
            "11         Apple Pay\n",
            "12         Apple Pay\n",
            "13         Apple Pay\n",
            "14         Apple Pay\n",
            "15          Internet\n",
            "16              Card\n",
            "17              Card\n",
            "18              Card\n",
            "19         Apple Pay\n",
            "20         Apple Pay\n",
            "21              Card\n",
            "22              Card\n",
            "23              Card\n",
            "24         Apple Pay\n",
            "25              Card\n",
            "26          Internet\n",
            "27         Apple Pay\n",
            "28         Apple Pay\n",
            "29         Apple Pay\n",
            "30          Internet\n"
          ]
        }
      ]
    },
    {
      "cell_type": "code",
      "source": [
        "extracted_col = transaction_method_df['TransactionMethod']\n",
        "finance_df=pd.concat([finance_df, extracted_col.rename(\"MethodOfTransaction\")], axis=1)"
      ],
      "metadata": {
        "id": "DPUXnDKOvm0Z"
      },
      "execution_count": 20,
      "outputs": []
    },
    {
      "cell_type": "code",
      "source": [
        "finance_df"
      ],
      "metadata": {
        "colab": {
          "base_uri": "https://localhost:8080/",
          "height": 1000
        },
        "id": "JUKagK_UjVGQ",
        "outputId": "5cdc9b72-3095-495c-a577-46f4a07fb20d"
      },
      "execution_count": 21,
      "outputs": [
        {
          "output_type": "execute_result",
          "data": {
            "text/plain": [
              "        date                                               name   amount  \\\n",
              "0   03/25/24  DISPUTE CRREVERSAL -AplPay HERTZ CAR RENTAL $7...   $72.88   \n",
              "1   04/01/24             COMMONWEALTH EDISON COMPANY CHICAGO IL   $25.89   \n",
              "2   04/01/24                      LOT AEPS 000000045 CHICAGO IL    $3.00   \n",
              "3   04/02/24                           AplPay SUBWAY CHICAGO IL   $20.17   \n",
              "4   04/02/24                          STARBUCKS 800-782-7282 WA    $6.59   \n",
              "5   04/02/24         AplPay PATEL BROTHERS 000000001 CHICAGO IL   $61.90   \n",
              "6   04/03/24                      LAFITNESS CORP INTL IRVINE CA   $10.00   \n",
              "7   04/03/24       AplPay COMCAST CHICAGO CS1X (800)266-2278 IL   $25.00   \n",
              "8   04/07/24                            SPOTIFY USA NEW YORK NY    $6.53   \n",
              "9   04/07/24             AplPay JEWEL OSCO 3443 3443 CHICAGO IL   $20.11   \n",
              "10  04/08/24                    BROADWAY ARMORY 0000 CHICAGO IL    $2.00   \n",
              "11  04/08/24          AplPay DUNKIN #343280 Q35 3432 CHICAGO IL    $8.14   \n",
              "12  04/08/24        AplPay TARGET 032722 09100032722 CHICAGO IL    $9.47   \n",
              "13  04/09/24        AplPay TARGET 020792 09100020792 CHICAGO IL   $13.95   \n",
              "14  04/09/24        AplPay TARGET 020792 09100020792 CHICAGO IL   $19.49   \n",
              "15  04/10/24                         Amazon Prime Amazon.com WA    $7.49   \n",
              "16  04/12/24                   SAM'S CLUB 6444 6444 EVANSTON IL  $228.63   \n",
              "17  04/12/24                   SAM'S CLUB 6444 6444 EVANSTON IL   $11.62   \n",
              "18  04/12/24           PARKINGMETER1 8772427901 0007 CHICAGO IL    $2.75   \n",
              "19  04/13/24            AplPay PAYRANGE MOBILE 0000 PORTLAND OR   $25.00   \n",
              "20  04/13/24  AplPay FARM SUPERMARKET 941600820178335 CHICAG...   $19.68   \n",
              "21  04/13/24                     USMANIA FINE DINING CHICAGO IL   $91.59   \n",
              "22  04/14/24                    CHICAGO BOTANIC GARD GLENCOE IL   $10.00   \n",
              "23  04/16/24                USCIS I-765 000000055 WASHINGTON DC  $470.00   \n",
              "24  04/17/24       AplPay CHIPOTLE ONLINE 0000 NEWPORT BEACH CA   $12.73   \n",
              "25  04/18/24              CHATGPT SUBSCRIPTION SAN FRANCISCO CA   $21.80   \n",
              "26  04/22/24           AplPay APPLE.COM/BILL INTERNET CHARGE CA    $2.99   \n",
              "27  04/23/24             AplPay JEWEL OSCO 3443 3443 CHICAGO IL   $61.81   \n",
              "28  04/24/24   AplPay TST* LAMEXICANA GRILL 00079752 CHICAGO IL   $47.05   \n",
              "29  04/25/24         AplPay PATEL BROTHERS 000000001 CHICAGO IL   $45.16   \n",
              "30  04/28/24                        NETFLIX.COM 866-579-7172 CA   $25.06   \n",
              "\n",
              "   MethodOfTransaction  \n",
              "0            Apple Pay  \n",
              "1                 Card  \n",
              "2                 Card  \n",
              "3            Apple Pay  \n",
              "4                 Card  \n",
              "5            Apple Pay  \n",
              "6                 Card  \n",
              "7            Apple Pay  \n",
              "8                 Card  \n",
              "9            Apple Pay  \n",
              "10                Card  \n",
              "11           Apple Pay  \n",
              "12           Apple Pay  \n",
              "13           Apple Pay  \n",
              "14           Apple Pay  \n",
              "15            Internet  \n",
              "16                Card  \n",
              "17                Card  \n",
              "18                Card  \n",
              "19           Apple Pay  \n",
              "20           Apple Pay  \n",
              "21                Card  \n",
              "22                Card  \n",
              "23                Card  \n",
              "24           Apple Pay  \n",
              "25                Card  \n",
              "26            Internet  \n",
              "27           Apple Pay  \n",
              "28           Apple Pay  \n",
              "29           Apple Pay  \n",
              "30            Internet  "
            ],
            "text/html": [
              "\n",
              "  <div id=\"df-abb973f5-182b-4316-b903-e6b6c4ef2aff\" class=\"colab-df-container\">\n",
              "    <div>\n",
              "<style scoped>\n",
              "    .dataframe tbody tr th:only-of-type {\n",
              "        vertical-align: middle;\n",
              "    }\n",
              "\n",
              "    .dataframe tbody tr th {\n",
              "        vertical-align: top;\n",
              "    }\n",
              "\n",
              "    .dataframe thead th {\n",
              "        text-align: right;\n",
              "    }\n",
              "</style>\n",
              "<table border=\"1\" class=\"dataframe\">\n",
              "  <thead>\n",
              "    <tr style=\"text-align: right;\">\n",
              "      <th></th>\n",
              "      <th>date</th>\n",
              "      <th>name</th>\n",
              "      <th>amount</th>\n",
              "      <th>MethodOfTransaction</th>\n",
              "    </tr>\n",
              "  </thead>\n",
              "  <tbody>\n",
              "    <tr>\n",
              "      <th>0</th>\n",
              "      <td>03/25/24</td>\n",
              "      <td>DISPUTE CRREVERSAL -AplPay HERTZ CAR RENTAL $7...</td>\n",
              "      <td>$72.88</td>\n",
              "      <td>Apple Pay</td>\n",
              "    </tr>\n",
              "    <tr>\n",
              "      <th>1</th>\n",
              "      <td>04/01/24</td>\n",
              "      <td>COMMONWEALTH EDISON COMPANY CHICAGO IL</td>\n",
              "      <td>$25.89</td>\n",
              "      <td>Card</td>\n",
              "    </tr>\n",
              "    <tr>\n",
              "      <th>2</th>\n",
              "      <td>04/01/24</td>\n",
              "      <td>LOT AEPS 000000045 CHICAGO IL</td>\n",
              "      <td>$3.00</td>\n",
              "      <td>Card</td>\n",
              "    </tr>\n",
              "    <tr>\n",
              "      <th>3</th>\n",
              "      <td>04/02/24</td>\n",
              "      <td>AplPay SUBWAY CHICAGO IL</td>\n",
              "      <td>$20.17</td>\n",
              "      <td>Apple Pay</td>\n",
              "    </tr>\n",
              "    <tr>\n",
              "      <th>4</th>\n",
              "      <td>04/02/24</td>\n",
              "      <td>STARBUCKS 800-782-7282 WA</td>\n",
              "      <td>$6.59</td>\n",
              "      <td>Card</td>\n",
              "    </tr>\n",
              "    <tr>\n",
              "      <th>5</th>\n",
              "      <td>04/02/24</td>\n",
              "      <td>AplPay PATEL BROTHERS 000000001 CHICAGO IL</td>\n",
              "      <td>$61.90</td>\n",
              "      <td>Apple Pay</td>\n",
              "    </tr>\n",
              "    <tr>\n",
              "      <th>6</th>\n",
              "      <td>04/03/24</td>\n",
              "      <td>LAFITNESS CORP INTL IRVINE CA</td>\n",
              "      <td>$10.00</td>\n",
              "      <td>Card</td>\n",
              "    </tr>\n",
              "    <tr>\n",
              "      <th>7</th>\n",
              "      <td>04/03/24</td>\n",
              "      <td>AplPay COMCAST CHICAGO CS1X (800)266-2278 IL</td>\n",
              "      <td>$25.00</td>\n",
              "      <td>Apple Pay</td>\n",
              "    </tr>\n",
              "    <tr>\n",
              "      <th>8</th>\n",
              "      <td>04/07/24</td>\n",
              "      <td>SPOTIFY USA NEW YORK NY</td>\n",
              "      <td>$6.53</td>\n",
              "      <td>Card</td>\n",
              "    </tr>\n",
              "    <tr>\n",
              "      <th>9</th>\n",
              "      <td>04/07/24</td>\n",
              "      <td>AplPay JEWEL OSCO 3443 3443 CHICAGO IL</td>\n",
              "      <td>$20.11</td>\n",
              "      <td>Apple Pay</td>\n",
              "    </tr>\n",
              "    <tr>\n",
              "      <th>10</th>\n",
              "      <td>04/08/24</td>\n",
              "      <td>BROADWAY ARMORY 0000 CHICAGO IL</td>\n",
              "      <td>$2.00</td>\n",
              "      <td>Card</td>\n",
              "    </tr>\n",
              "    <tr>\n",
              "      <th>11</th>\n",
              "      <td>04/08/24</td>\n",
              "      <td>AplPay DUNKIN #343280 Q35 3432 CHICAGO IL</td>\n",
              "      <td>$8.14</td>\n",
              "      <td>Apple Pay</td>\n",
              "    </tr>\n",
              "    <tr>\n",
              "      <th>12</th>\n",
              "      <td>04/08/24</td>\n",
              "      <td>AplPay TARGET 032722 09100032722 CHICAGO IL</td>\n",
              "      <td>$9.47</td>\n",
              "      <td>Apple Pay</td>\n",
              "    </tr>\n",
              "    <tr>\n",
              "      <th>13</th>\n",
              "      <td>04/09/24</td>\n",
              "      <td>AplPay TARGET 020792 09100020792 CHICAGO IL</td>\n",
              "      <td>$13.95</td>\n",
              "      <td>Apple Pay</td>\n",
              "    </tr>\n",
              "    <tr>\n",
              "      <th>14</th>\n",
              "      <td>04/09/24</td>\n",
              "      <td>AplPay TARGET 020792 09100020792 CHICAGO IL</td>\n",
              "      <td>$19.49</td>\n",
              "      <td>Apple Pay</td>\n",
              "    </tr>\n",
              "    <tr>\n",
              "      <th>15</th>\n",
              "      <td>04/10/24</td>\n",
              "      <td>Amazon Prime Amazon.com WA</td>\n",
              "      <td>$7.49</td>\n",
              "      <td>Internet</td>\n",
              "    </tr>\n",
              "    <tr>\n",
              "      <th>16</th>\n",
              "      <td>04/12/24</td>\n",
              "      <td>SAM'S CLUB 6444 6444 EVANSTON IL</td>\n",
              "      <td>$228.63</td>\n",
              "      <td>Card</td>\n",
              "    </tr>\n",
              "    <tr>\n",
              "      <th>17</th>\n",
              "      <td>04/12/24</td>\n",
              "      <td>SAM'S CLUB 6444 6444 EVANSTON IL</td>\n",
              "      <td>$11.62</td>\n",
              "      <td>Card</td>\n",
              "    </tr>\n",
              "    <tr>\n",
              "      <th>18</th>\n",
              "      <td>04/12/24</td>\n",
              "      <td>PARKINGMETER1 8772427901 0007 CHICAGO IL</td>\n",
              "      <td>$2.75</td>\n",
              "      <td>Card</td>\n",
              "    </tr>\n",
              "    <tr>\n",
              "      <th>19</th>\n",
              "      <td>04/13/24</td>\n",
              "      <td>AplPay PAYRANGE MOBILE 0000 PORTLAND OR</td>\n",
              "      <td>$25.00</td>\n",
              "      <td>Apple Pay</td>\n",
              "    </tr>\n",
              "    <tr>\n",
              "      <th>20</th>\n",
              "      <td>04/13/24</td>\n",
              "      <td>AplPay FARM SUPERMARKET 941600820178335 CHICAG...</td>\n",
              "      <td>$19.68</td>\n",
              "      <td>Apple Pay</td>\n",
              "    </tr>\n",
              "    <tr>\n",
              "      <th>21</th>\n",
              "      <td>04/13/24</td>\n",
              "      <td>USMANIA FINE DINING CHICAGO IL</td>\n",
              "      <td>$91.59</td>\n",
              "      <td>Card</td>\n",
              "    </tr>\n",
              "    <tr>\n",
              "      <th>22</th>\n",
              "      <td>04/14/24</td>\n",
              "      <td>CHICAGO BOTANIC GARD GLENCOE IL</td>\n",
              "      <td>$10.00</td>\n",
              "      <td>Card</td>\n",
              "    </tr>\n",
              "    <tr>\n",
              "      <th>23</th>\n",
              "      <td>04/16/24</td>\n",
              "      <td>USCIS I-765 000000055 WASHINGTON DC</td>\n",
              "      <td>$470.00</td>\n",
              "      <td>Card</td>\n",
              "    </tr>\n",
              "    <tr>\n",
              "      <th>24</th>\n",
              "      <td>04/17/24</td>\n",
              "      <td>AplPay CHIPOTLE ONLINE 0000 NEWPORT BEACH CA</td>\n",
              "      <td>$12.73</td>\n",
              "      <td>Apple Pay</td>\n",
              "    </tr>\n",
              "    <tr>\n",
              "      <th>25</th>\n",
              "      <td>04/18/24</td>\n",
              "      <td>CHATGPT SUBSCRIPTION SAN FRANCISCO CA</td>\n",
              "      <td>$21.80</td>\n",
              "      <td>Card</td>\n",
              "    </tr>\n",
              "    <tr>\n",
              "      <th>26</th>\n",
              "      <td>04/22/24</td>\n",
              "      <td>AplPay APPLE.COM/BILL INTERNET CHARGE CA</td>\n",
              "      <td>$2.99</td>\n",
              "      <td>Internet</td>\n",
              "    </tr>\n",
              "    <tr>\n",
              "      <th>27</th>\n",
              "      <td>04/23/24</td>\n",
              "      <td>AplPay JEWEL OSCO 3443 3443 CHICAGO IL</td>\n",
              "      <td>$61.81</td>\n",
              "      <td>Apple Pay</td>\n",
              "    </tr>\n",
              "    <tr>\n",
              "      <th>28</th>\n",
              "      <td>04/24/24</td>\n",
              "      <td>AplPay TST* LAMEXICANA GRILL 00079752 CHICAGO IL</td>\n",
              "      <td>$47.05</td>\n",
              "      <td>Apple Pay</td>\n",
              "    </tr>\n",
              "    <tr>\n",
              "      <th>29</th>\n",
              "      <td>04/25/24</td>\n",
              "      <td>AplPay PATEL BROTHERS 000000001 CHICAGO IL</td>\n",
              "      <td>$45.16</td>\n",
              "      <td>Apple Pay</td>\n",
              "    </tr>\n",
              "    <tr>\n",
              "      <th>30</th>\n",
              "      <td>04/28/24</td>\n",
              "      <td>NETFLIX.COM 866-579-7172 CA</td>\n",
              "      <td>$25.06</td>\n",
              "      <td>Internet</td>\n",
              "    </tr>\n",
              "  </tbody>\n",
              "</table>\n",
              "</div>\n",
              "    <div class=\"colab-df-buttons\">\n",
              "\n",
              "  <div class=\"colab-df-container\">\n",
              "    <button class=\"colab-df-convert\" onclick=\"convertToInteractive('df-abb973f5-182b-4316-b903-e6b6c4ef2aff')\"\n",
              "            title=\"Convert this dataframe to an interactive table.\"\n",
              "            style=\"display:none;\">\n",
              "\n",
              "  <svg xmlns=\"http://www.w3.org/2000/svg\" height=\"24px\" viewBox=\"0 -960 960 960\">\n",
              "    <path d=\"M120-120v-720h720v720H120Zm60-500h600v-160H180v160Zm220 220h160v-160H400v160Zm0 220h160v-160H400v160ZM180-400h160v-160H180v160Zm440 0h160v-160H620v160ZM180-180h160v-160H180v160Zm440 0h160v-160H620v160Z\"/>\n",
              "  </svg>\n",
              "    </button>\n",
              "\n",
              "  <style>\n",
              "    .colab-df-container {\n",
              "      display:flex;\n",
              "      gap: 12px;\n",
              "    }\n",
              "\n",
              "    .colab-df-convert {\n",
              "      background-color: #E8F0FE;\n",
              "      border: none;\n",
              "      border-radius: 50%;\n",
              "      cursor: pointer;\n",
              "      display: none;\n",
              "      fill: #1967D2;\n",
              "      height: 32px;\n",
              "      padding: 0 0 0 0;\n",
              "      width: 32px;\n",
              "    }\n",
              "\n",
              "    .colab-df-convert:hover {\n",
              "      background-color: #E2EBFA;\n",
              "      box-shadow: 0px 1px 2px rgba(60, 64, 67, 0.3), 0px 1px 3px 1px rgba(60, 64, 67, 0.15);\n",
              "      fill: #174EA6;\n",
              "    }\n",
              "\n",
              "    .colab-df-buttons div {\n",
              "      margin-bottom: 4px;\n",
              "    }\n",
              "\n",
              "    [theme=dark] .colab-df-convert {\n",
              "      background-color: #3B4455;\n",
              "      fill: #D2E3FC;\n",
              "    }\n",
              "\n",
              "    [theme=dark] .colab-df-convert:hover {\n",
              "      background-color: #434B5C;\n",
              "      box-shadow: 0px 1px 3px 1px rgba(0, 0, 0, 0.15);\n",
              "      filter: drop-shadow(0px 1px 2px rgba(0, 0, 0, 0.3));\n",
              "      fill: #FFFFFF;\n",
              "    }\n",
              "  </style>\n",
              "\n",
              "    <script>\n",
              "      const buttonEl =\n",
              "        document.querySelector('#df-abb973f5-182b-4316-b903-e6b6c4ef2aff button.colab-df-convert');\n",
              "      buttonEl.style.display =\n",
              "        google.colab.kernel.accessAllowed ? 'block' : 'none';\n",
              "\n",
              "      async function convertToInteractive(key) {\n",
              "        const element = document.querySelector('#df-abb973f5-182b-4316-b903-e6b6c4ef2aff');\n",
              "        const dataTable =\n",
              "          await google.colab.kernel.invokeFunction('convertToInteractive',\n",
              "                                                    [key], {});\n",
              "        if (!dataTable) return;\n",
              "\n",
              "        const docLinkHtml = 'Like what you see? Visit the ' +\n",
              "          '<a target=\"_blank\" href=https://colab.research.google.com/notebooks/data_table.ipynb>data table notebook</a>'\n",
              "          + ' to learn more about interactive tables.';\n",
              "        element.innerHTML = '';\n",
              "        dataTable['output_type'] = 'display_data';\n",
              "        await google.colab.output.renderOutput(dataTable, element);\n",
              "        const docLink = document.createElement('div');\n",
              "        docLink.innerHTML = docLinkHtml;\n",
              "        element.appendChild(docLink);\n",
              "      }\n",
              "    </script>\n",
              "  </div>\n",
              "\n",
              "\n",
              "<div id=\"df-c43be064-4fe3-4228-b101-907e25d99263\">\n",
              "  <button class=\"colab-df-quickchart\" onclick=\"quickchart('df-c43be064-4fe3-4228-b101-907e25d99263')\"\n",
              "            title=\"Suggest charts\"\n",
              "            style=\"display:none;\">\n",
              "\n",
              "<svg xmlns=\"http://www.w3.org/2000/svg\" height=\"24px\"viewBox=\"0 0 24 24\"\n",
              "     width=\"24px\">\n",
              "    <g>\n",
              "        <path d=\"M19 3H5c-1.1 0-2 .9-2 2v14c0 1.1.9 2 2 2h14c1.1 0 2-.9 2-2V5c0-1.1-.9-2-2-2zM9 17H7v-7h2v7zm4 0h-2V7h2v10zm4 0h-2v-4h2v4z\"/>\n",
              "    </g>\n",
              "</svg>\n",
              "  </button>\n",
              "\n",
              "<style>\n",
              "  .colab-df-quickchart {\n",
              "      --bg-color: #E8F0FE;\n",
              "      --fill-color: #1967D2;\n",
              "      --hover-bg-color: #E2EBFA;\n",
              "      --hover-fill-color: #174EA6;\n",
              "      --disabled-fill-color: #AAA;\n",
              "      --disabled-bg-color: #DDD;\n",
              "  }\n",
              "\n",
              "  [theme=dark] .colab-df-quickchart {\n",
              "      --bg-color: #3B4455;\n",
              "      --fill-color: #D2E3FC;\n",
              "      --hover-bg-color: #434B5C;\n",
              "      --hover-fill-color: #FFFFFF;\n",
              "      --disabled-bg-color: #3B4455;\n",
              "      --disabled-fill-color: #666;\n",
              "  }\n",
              "\n",
              "  .colab-df-quickchart {\n",
              "    background-color: var(--bg-color);\n",
              "    border: none;\n",
              "    border-radius: 50%;\n",
              "    cursor: pointer;\n",
              "    display: none;\n",
              "    fill: var(--fill-color);\n",
              "    height: 32px;\n",
              "    padding: 0;\n",
              "    width: 32px;\n",
              "  }\n",
              "\n",
              "  .colab-df-quickchart:hover {\n",
              "    background-color: var(--hover-bg-color);\n",
              "    box-shadow: 0 1px 2px rgba(60, 64, 67, 0.3), 0 1px 3px 1px rgba(60, 64, 67, 0.15);\n",
              "    fill: var(--button-hover-fill-color);\n",
              "  }\n",
              "\n",
              "  .colab-df-quickchart-complete:disabled,\n",
              "  .colab-df-quickchart-complete:disabled:hover {\n",
              "    background-color: var(--disabled-bg-color);\n",
              "    fill: var(--disabled-fill-color);\n",
              "    box-shadow: none;\n",
              "  }\n",
              "\n",
              "  .colab-df-spinner {\n",
              "    border: 2px solid var(--fill-color);\n",
              "    border-color: transparent;\n",
              "    border-bottom-color: var(--fill-color);\n",
              "    animation:\n",
              "      spin 1s steps(1) infinite;\n",
              "  }\n",
              "\n",
              "  @keyframes spin {\n",
              "    0% {\n",
              "      border-color: transparent;\n",
              "      border-bottom-color: var(--fill-color);\n",
              "      border-left-color: var(--fill-color);\n",
              "    }\n",
              "    20% {\n",
              "      border-color: transparent;\n",
              "      border-left-color: var(--fill-color);\n",
              "      border-top-color: var(--fill-color);\n",
              "    }\n",
              "    30% {\n",
              "      border-color: transparent;\n",
              "      border-left-color: var(--fill-color);\n",
              "      border-top-color: var(--fill-color);\n",
              "      border-right-color: var(--fill-color);\n",
              "    }\n",
              "    40% {\n",
              "      border-color: transparent;\n",
              "      border-right-color: var(--fill-color);\n",
              "      border-top-color: var(--fill-color);\n",
              "    }\n",
              "    60% {\n",
              "      border-color: transparent;\n",
              "      border-right-color: var(--fill-color);\n",
              "    }\n",
              "    80% {\n",
              "      border-color: transparent;\n",
              "      border-right-color: var(--fill-color);\n",
              "      border-bottom-color: var(--fill-color);\n",
              "    }\n",
              "    90% {\n",
              "      border-color: transparent;\n",
              "      border-bottom-color: var(--fill-color);\n",
              "    }\n",
              "  }\n",
              "</style>\n",
              "\n",
              "  <script>\n",
              "    async function quickchart(key) {\n",
              "      const quickchartButtonEl =\n",
              "        document.querySelector('#' + key + ' button');\n",
              "      quickchartButtonEl.disabled = true;  // To prevent multiple clicks.\n",
              "      quickchartButtonEl.classList.add('colab-df-spinner');\n",
              "      try {\n",
              "        const charts = await google.colab.kernel.invokeFunction(\n",
              "            'suggestCharts', [key], {});\n",
              "      } catch (error) {\n",
              "        console.error('Error during call to suggestCharts:', error);\n",
              "      }\n",
              "      quickchartButtonEl.classList.remove('colab-df-spinner');\n",
              "      quickchartButtonEl.classList.add('colab-df-quickchart-complete');\n",
              "    }\n",
              "    (() => {\n",
              "      let quickchartButtonEl =\n",
              "        document.querySelector('#df-c43be064-4fe3-4228-b101-907e25d99263 button');\n",
              "      quickchartButtonEl.style.display =\n",
              "        google.colab.kernel.accessAllowed ? 'block' : 'none';\n",
              "    })();\n",
              "  </script>\n",
              "</div>\n",
              "\n",
              "  <div id=\"id_6d5d6b7a-bd6e-46fd-b23f-cb046c93685a\">\n",
              "    <style>\n",
              "      .colab-df-generate {\n",
              "        background-color: #E8F0FE;\n",
              "        border: none;\n",
              "        border-radius: 50%;\n",
              "        cursor: pointer;\n",
              "        display: none;\n",
              "        fill: #1967D2;\n",
              "        height: 32px;\n",
              "        padding: 0 0 0 0;\n",
              "        width: 32px;\n",
              "      }\n",
              "\n",
              "      .colab-df-generate:hover {\n",
              "        background-color: #E2EBFA;\n",
              "        box-shadow: 0px 1px 2px rgba(60, 64, 67, 0.3), 0px 1px 3px 1px rgba(60, 64, 67, 0.15);\n",
              "        fill: #174EA6;\n",
              "      }\n",
              "\n",
              "      [theme=dark] .colab-df-generate {\n",
              "        background-color: #3B4455;\n",
              "        fill: #D2E3FC;\n",
              "      }\n",
              "\n",
              "      [theme=dark] .colab-df-generate:hover {\n",
              "        background-color: #434B5C;\n",
              "        box-shadow: 0px 1px 3px 1px rgba(0, 0, 0, 0.15);\n",
              "        filter: drop-shadow(0px 1px 2px rgba(0, 0, 0, 0.3));\n",
              "        fill: #FFFFFF;\n",
              "      }\n",
              "    </style>\n",
              "    <button class=\"colab-df-generate\" onclick=\"generateWithVariable('finance_df')\"\n",
              "            title=\"Generate code using this dataframe.\"\n",
              "            style=\"display:none;\">\n",
              "\n",
              "  <svg xmlns=\"http://www.w3.org/2000/svg\" height=\"24px\"viewBox=\"0 0 24 24\"\n",
              "       width=\"24px\">\n",
              "    <path d=\"M7,19H8.4L18.45,9,17,7.55,7,17.6ZM5,21V16.75L18.45,3.32a2,2,0,0,1,2.83,0l1.4,1.43a1.91,1.91,0,0,1,.58,1.4,1.91,1.91,0,0,1-.58,1.4L9.25,21ZM18.45,9,17,7.55Zm-12,3A5.31,5.31,0,0,0,4.9,8.1,5.31,5.31,0,0,0,1,6.5,5.31,5.31,0,0,0,4.9,4.9,5.31,5.31,0,0,0,6.5,1,5.31,5.31,0,0,0,8.1,4.9,5.31,5.31,0,0,0,12,6.5,5.46,5.46,0,0,0,6.5,12Z\"/>\n",
              "  </svg>\n",
              "    </button>\n",
              "    <script>\n",
              "      (() => {\n",
              "      const buttonEl =\n",
              "        document.querySelector('#id_6d5d6b7a-bd6e-46fd-b23f-cb046c93685a button.colab-df-generate');\n",
              "      buttonEl.style.display =\n",
              "        google.colab.kernel.accessAllowed ? 'block' : 'none';\n",
              "\n",
              "      buttonEl.onclick = () => {\n",
              "        google.colab.notebook.generateWithVariable('finance_df');\n",
              "      }\n",
              "      })();\n",
              "    </script>\n",
              "  </div>\n",
              "\n",
              "    </div>\n",
              "  </div>\n"
            ],
            "application/vnd.google.colaboratory.intrinsic+json": {
              "type": "dataframe",
              "variable_name": "finance_df",
              "summary": "{\n  \"name\": \"finance_df\",\n  \"rows\": 31,\n  \"fields\": [\n    {\n      \"column\": \"date\",\n      \"properties\": {\n        \"dtype\": \"object\",\n        \"num_unique_values\": 19,\n        \"samples\": [\n          \"03/25/24\",\n          \"04/08/24\",\n          \"04/16/24\"\n        ],\n        \"semantic_type\": \"\",\n        \"description\": \"\"\n      }\n    },\n    {\n      \"column\": \"name\",\n      \"properties\": {\n        \"dtype\": \"string\",\n        \"num_unique_values\": 27,\n        \"samples\": [\n          \"SPOTIFY USA NEW YORK NY\",\n          \"AplPay TARGET 020792 09100020792 CHICAGO IL\",\n          \"AplPay JEWEL OSCO 3443 3443 CHICAGO IL\"\n        ],\n        \"semantic_type\": \"\",\n        \"description\": \"\"\n      }\n    },\n    {\n      \"column\": \"amount\",\n      \"properties\": {\n        \"dtype\": \"string\",\n        \"num_unique_values\": 29,\n        \"samples\": [\n          \"$45.16\",\n          \"$228.63\",\n          \"$9.47\"\n        ],\n        \"semantic_type\": \"\",\n        \"description\": \"\"\n      }\n    },\n    {\n      \"column\": \"MethodOfTransaction\",\n      \"properties\": {\n        \"dtype\": \"category\",\n        \"num_unique_values\": 3,\n        \"samples\": [\n          \"Apple Pay\",\n          \"Card\",\n          \"Internet\"\n        ],\n        \"semantic_type\": \"\",\n        \"description\": \"\"\n      }\n    }\n  ]\n}"
            }
          },
          "metadata": {},
          "execution_count": 21
        }
      ]
    },
    {
      "cell_type": "markdown",
      "source": [
        "**Cleaning**"
      ],
      "metadata": {
        "id": "bcGQqcVAJFZu"
      }
    },
    {
      "cell_type": "markdown",
      "source": [
        "Cleaning Variable 'name' - To clean locations, numbers and other https in it,"
      ],
      "metadata": {
        "id": "ypjz62kpy8IH"
      }
    },
    {
      "cell_type": "code",
      "source": [
        "# Read the US cities and states CSV file\n",
        "LocationData = pd.read_csv('/content/uscities.csv')\n",
        "\n",
        "# Display the first few rows of the DataFrame\n",
        "print(LocationData.head())"
      ],
      "metadata": {
        "colab": {
          "base_uri": "https://localhost:8080/"
        },
        "id": "HPfNpZqi_lYz",
        "outputId": "9397203a-2078-40b7-e30d-d2738de40694"
      },
      "execution_count": 22,
      "outputs": [
        {
          "output_type": "stream",
          "name": "stdout",
          "text": [
            "          city   city_ascii state_id  state_name  county_fips  county_name  \\\n",
            "0     New York     New York       NY    New York        36081       Queens   \n",
            "1  Los Angeles  Los Angeles       CA  California         6037  Los Angeles   \n",
            "2      Chicago      Chicago       IL    Illinois        17031         Cook   \n",
            "3        Miami        Miami       FL     Florida        12086   Miami-Dade   \n",
            "4      Houston      Houston       TX       Texas        48201       Harris   \n",
            "\n",
            "       lat       lng  population  density source  military  incorporated  \\\n",
            "0  40.6943  -73.9249    18908608  11080.3  shape     False          True   \n",
            "1  34.1141 -118.4068    11922389   3184.7  shape     False          True   \n",
            "2  41.8375  -87.6866     8497759   4614.5  shape     False          True   \n",
            "3  25.7840  -80.2101     6080145   4758.9  shape     False          True   \n",
            "4  29.7860  -95.3885     5970127   1384.0  shape     False          True   \n",
            "\n",
            "              timezone  ranking  \\\n",
            "0     America/New_York        1   \n",
            "1  America/Los_Angeles        1   \n",
            "2      America/Chicago        1   \n",
            "3     America/New_York        1   \n",
            "4      America/Chicago        1   \n",
            "\n",
            "                                                zips          id  \n",
            "0  11229 11228 11226 11225 11224 11222 11221 1122...  1840034016  \n",
            "1  91367 90291 90293 90292 91316 91311 90035 9003...  1840020491  \n",
            "2  60018 60649 60641 60640 60643 60642 60645 6064...  1840000494  \n",
            "3  33128 33129 33125 33126 33127 33149 33144 3314...  1840015149  \n",
            "4  77069 77068 77061 77060 77063 77062 77065 7706...  1840020925  \n"
          ]
        }
      ]
    },
    {
      "cell_type": "code",
      "source": [
        "# Extract cities and states from DataFrame and convert to lists\n",
        "cities = LocationData['city'].tolist()\n",
        "states = LocationData['state_id'].tolist()\n",
        "\n",
        "# Combine cities and states into one list for removal\n",
        "remove_words = cities + states\n",
        "\n",
        "# Function to clean the 'name' column\n",
        "def clean_name(name):\n",
        "    # Create a regular expression pattern to match the words to remove\n",
        "    pattern = r'\\b(?:{})\\b'.format('|'.join(map(re.escape, remove_words)))\n",
        "    # Remove the words from the name\n",
        "    cleaned_name = re.sub(pattern, '', name, flags=re.IGNORECASE)\n",
        "    # Remove extra spaces and punctuation\n",
        "    cleaned_name = re.sub(r'\\s+', ' ', cleaned_name).strip()\n",
        "    return cleaned_name\n",
        "\n",
        "# Apply the function to the 'name' column\n",
        "finance_df['name'] = finance_df['name'].apply(clean_name)\n",
        "\n",
        "# Display the cleaned DataFrame\n",
        "print(finance_df)\n"
      ],
      "metadata": {
        "colab": {
          "base_uri": "https://localhost:8080/"
        },
        "id": "CyBkAHSO7zJ2",
        "outputId": "7a470c89-730e-454a-c0e4-3f622ea8698e"
      },
      "execution_count": 23,
      "outputs": [
        {
          "output_type": "stream",
          "name": "stdout",
          "text": [
            "        date                                               name   amount  \\\n",
            "0   03/25/24  DISPUTE CRREVERSAL -AplPay HERTZ CAR RENTAL $7...   $72.88   \n",
            "1   04/01/24                               COMMONWEALTH COMPANY   $25.89   \n",
            "2   04/01/24                                 LOT AEPS 000000045    $3.00   \n",
            "3   04/02/24                                      AplPay SUBWAY   $20.17   \n",
            "4   04/02/24                             STARBUCKS 800-782-7282    $6.59   \n",
            "5   04/02/24                    AplPay PATEL BROTHERS 000000001   $61.90   \n",
            "6   04/03/24                                LAFITNESS CORP INTL   $10.00   \n",
            "7   04/03/24                  AplPay COMCAST CS1X (800)266-2278   $25.00   \n",
            "8   04/07/24                                        SPOTIFY USA    $6.53   \n",
            "9   04/07/24                             AplPay JEWEL 3443 3443   $20.11   \n",
            "10  04/08/24                                        ARMORY 0000    $2.00   \n",
            "11  04/08/24                     AplPay DUNKIN #343280 Q35 3432    $8.14   \n",
            "12  04/08/24                   AplPay TARGET 032722 09100032722    $9.47   \n",
            "13  04/09/24                   AplPay TARGET 020792 09100020792   $13.95   \n",
            "14  04/09/24                   AplPay TARGET 020792 09100020792   $19.49   \n",
            "15  04/10/24                            Amazon Prime Amazon.com    $7.49   \n",
            "16  04/12/24                               SAM'S CLUB 6444 6444  $228.63   \n",
            "17  04/12/24                               SAM'S CLUB 6444 6444   $11.62   \n",
            "18  04/12/24                      PARKINGMETER1 8772427901 0007    $2.75   \n",
            "19  04/13/24                               AplPay PAYRANGE 0000   $25.00   \n",
            "20  04/13/24            AplPay FARM SUPERMARKET 941600820178335   $19.68   \n",
            "21  04/13/24                                USMANIA FINE DINING   $91.59   \n",
            "22  04/14/24                                       BOTANIC GARD   $10.00   \n",
            "23  04/16/24                              USCIS I-765 000000055  $470.00   \n",
            "24  04/17/24                        AplPay CHIPOTLE ONLINE 0000   $12.73   \n",
            "25  04/18/24                               CHATGPT SUBSCRIPTION   $21.80   \n",
            "26  04/22/24              AplPay APPLE.COM/BILL INTERNET CHARGE    $2.99   \n",
            "27  04/23/24                             AplPay JEWEL 3443 3443   $61.81   \n",
            "28  04/24/24                    AplPay TST* LAMEXICANA 00079752   $47.05   \n",
            "29  04/25/24                    AplPay PATEL BROTHERS 000000001   $45.16   \n",
            "30  04/28/24                           NETFLIX.COM 866-579-7172   $25.06   \n",
            "\n",
            "   MethodOfTransaction  \n",
            "0            Apple Pay  \n",
            "1                 Card  \n",
            "2                 Card  \n",
            "3            Apple Pay  \n",
            "4                 Card  \n",
            "5            Apple Pay  \n",
            "6                 Card  \n",
            "7            Apple Pay  \n",
            "8                 Card  \n",
            "9            Apple Pay  \n",
            "10                Card  \n",
            "11           Apple Pay  \n",
            "12           Apple Pay  \n",
            "13           Apple Pay  \n",
            "14           Apple Pay  \n",
            "15            Internet  \n",
            "16                Card  \n",
            "17                Card  \n",
            "18                Card  \n",
            "19           Apple Pay  \n",
            "20           Apple Pay  \n",
            "21                Card  \n",
            "22                Card  \n",
            "23                Card  \n",
            "24           Apple Pay  \n",
            "25                Card  \n",
            "26            Internet  \n",
            "27           Apple Pay  \n",
            "28           Apple Pay  \n",
            "29           Apple Pay  \n",
            "30            Internet  \n"
          ]
        }
      ]
    },
    {
      "cell_type": "code",
      "source": [
        "remove_word = \" USA\"\n",
        "\n",
        "# Function to clean the 'name' column\n",
        "def clean_name(name):\n",
        "    # Create a regular expression pattern to match the words to remove\n",
        "    pattern = r'\\b(?:{})\\b'.format('|'.join(map(re.escape, remove_words)))\n",
        "    # Remove the words from the name\n",
        "    cleaned_name = re.sub(pattern, '', name, flags=re.IGNORECASE)\n",
        "    # Remove extra spaces and punctuation\n",
        "    cleaned_name = re.sub(r'\\s+', ' ', cleaned_name).strip()\n",
        "    return cleaned_name\n",
        "\n",
        "# Apply the function to the 'name' column\n",
        "finance_df['name'] = finance_df['name'].apply(clean_name)\n",
        "\n",
        "# Display the cleaned DataFrame\n",
        "print(finance_df)"
      ],
      "metadata": {
        "id": "G6WY1hYLtoVE",
        "colab": {
          "base_uri": "https://localhost:8080/"
        },
        "outputId": "5013832f-3718-4010-b1d5-f2af51b3afef"
      },
      "execution_count": 24,
      "outputs": [
        {
          "output_type": "stream",
          "name": "stdout",
          "text": [
            "        date                                               name   amount  \\\n",
            "0   03/25/24  DISPUTE CRREVERSAL -AplPay HERTZ CAR RENTAL $7...   $72.88   \n",
            "1   04/01/24                               COMMONWEALTH COMPANY   $25.89   \n",
            "2   04/01/24                                 LOT AEPS 000000045    $3.00   \n",
            "3   04/02/24                                      AplPay SUBWAY   $20.17   \n",
            "4   04/02/24                             STARBUCKS 800-782-7282    $6.59   \n",
            "5   04/02/24                    AplPay PATEL BROTHERS 000000001   $61.90   \n",
            "6   04/03/24                                LAFITNESS CORP INTL   $10.00   \n",
            "7   04/03/24                  AplPay COMCAST CS1X (800)266-2278   $25.00   \n",
            "8   04/07/24                                        SPOTIFY USA    $6.53   \n",
            "9   04/07/24                             AplPay JEWEL 3443 3443   $20.11   \n",
            "10  04/08/24                                        ARMORY 0000    $2.00   \n",
            "11  04/08/24                     AplPay DUNKIN #343280 Q35 3432    $8.14   \n",
            "12  04/08/24                   AplPay TARGET 032722 09100032722    $9.47   \n",
            "13  04/09/24                   AplPay TARGET 020792 09100020792   $13.95   \n",
            "14  04/09/24                   AplPay TARGET 020792 09100020792   $19.49   \n",
            "15  04/10/24                            Amazon Prime Amazon.com    $7.49   \n",
            "16  04/12/24                               SAM'S CLUB 6444 6444  $228.63   \n",
            "17  04/12/24                               SAM'S CLUB 6444 6444   $11.62   \n",
            "18  04/12/24                      PARKINGMETER1 8772427901 0007    $2.75   \n",
            "19  04/13/24                               AplPay PAYRANGE 0000   $25.00   \n",
            "20  04/13/24            AplPay FARM SUPERMARKET 941600820178335   $19.68   \n",
            "21  04/13/24                                USMANIA FINE DINING   $91.59   \n",
            "22  04/14/24                                       BOTANIC GARD   $10.00   \n",
            "23  04/16/24                              USCIS I-765 000000055  $470.00   \n",
            "24  04/17/24                        AplPay CHIPOTLE ONLINE 0000   $12.73   \n",
            "25  04/18/24                               CHATGPT SUBSCRIPTION   $21.80   \n",
            "26  04/22/24              AplPay APPLE.COM/BILL INTERNET CHARGE    $2.99   \n",
            "27  04/23/24                             AplPay JEWEL 3443 3443   $61.81   \n",
            "28  04/24/24                    AplPay TST* LAMEXICANA 00079752   $47.05   \n",
            "29  04/25/24                    AplPay PATEL BROTHERS 000000001   $45.16   \n",
            "30  04/28/24                           NETFLIX.COM 866-579-7172   $25.06   \n",
            "\n",
            "   MethodOfTransaction  \n",
            "0            Apple Pay  \n",
            "1                 Card  \n",
            "2                 Card  \n",
            "3            Apple Pay  \n",
            "4                 Card  \n",
            "5            Apple Pay  \n",
            "6                 Card  \n",
            "7            Apple Pay  \n",
            "8                 Card  \n",
            "9            Apple Pay  \n",
            "10                Card  \n",
            "11           Apple Pay  \n",
            "12           Apple Pay  \n",
            "13           Apple Pay  \n",
            "14           Apple Pay  \n",
            "15            Internet  \n",
            "16                Card  \n",
            "17                Card  \n",
            "18                Card  \n",
            "19           Apple Pay  \n",
            "20           Apple Pay  \n",
            "21                Card  \n",
            "22                Card  \n",
            "23                Card  \n",
            "24           Apple Pay  \n",
            "25                Card  \n",
            "26            Internet  \n",
            "27           Apple Pay  \n",
            "28           Apple Pay  \n",
            "29           Apple Pay  \n",
            "30            Internet  \n"
          ]
        }
      ]
    },
    {
      "cell_type": "code",
      "source": [
        "finance_df"
      ],
      "metadata": {
        "colab": {
          "base_uri": "https://localhost:8080/",
          "height": 1000
        },
        "id": "rYn5tsxckfFY",
        "outputId": "00ccb729-1431-46d7-86ff-fd2e209f2380"
      },
      "execution_count": 25,
      "outputs": [
        {
          "output_type": "execute_result",
          "data": {
            "text/plain": [
              "        date                                               name   amount  \\\n",
              "0   03/25/24  DISPUTE CRREVERSAL -AplPay HERTZ CAR RENTAL $7...   $72.88   \n",
              "1   04/01/24                               COMMONWEALTH COMPANY   $25.89   \n",
              "2   04/01/24                                 LOT AEPS 000000045    $3.00   \n",
              "3   04/02/24                                      AplPay SUBWAY   $20.17   \n",
              "4   04/02/24                             STARBUCKS 800-782-7282    $6.59   \n",
              "5   04/02/24                    AplPay PATEL BROTHERS 000000001   $61.90   \n",
              "6   04/03/24                                LAFITNESS CORP INTL   $10.00   \n",
              "7   04/03/24                  AplPay COMCAST CS1X (800)266-2278   $25.00   \n",
              "8   04/07/24                                        SPOTIFY USA    $6.53   \n",
              "9   04/07/24                             AplPay JEWEL 3443 3443   $20.11   \n",
              "10  04/08/24                                        ARMORY 0000    $2.00   \n",
              "11  04/08/24                     AplPay DUNKIN #343280 Q35 3432    $8.14   \n",
              "12  04/08/24                   AplPay TARGET 032722 09100032722    $9.47   \n",
              "13  04/09/24                   AplPay TARGET 020792 09100020792   $13.95   \n",
              "14  04/09/24                   AplPay TARGET 020792 09100020792   $19.49   \n",
              "15  04/10/24                            Amazon Prime Amazon.com    $7.49   \n",
              "16  04/12/24                               SAM'S CLUB 6444 6444  $228.63   \n",
              "17  04/12/24                               SAM'S CLUB 6444 6444   $11.62   \n",
              "18  04/12/24                      PARKINGMETER1 8772427901 0007    $2.75   \n",
              "19  04/13/24                               AplPay PAYRANGE 0000   $25.00   \n",
              "20  04/13/24            AplPay FARM SUPERMARKET 941600820178335   $19.68   \n",
              "21  04/13/24                                USMANIA FINE DINING   $91.59   \n",
              "22  04/14/24                                       BOTANIC GARD   $10.00   \n",
              "23  04/16/24                              USCIS I-765 000000055  $470.00   \n",
              "24  04/17/24                        AplPay CHIPOTLE ONLINE 0000   $12.73   \n",
              "25  04/18/24                               CHATGPT SUBSCRIPTION   $21.80   \n",
              "26  04/22/24              AplPay APPLE.COM/BILL INTERNET CHARGE    $2.99   \n",
              "27  04/23/24                             AplPay JEWEL 3443 3443   $61.81   \n",
              "28  04/24/24                    AplPay TST* LAMEXICANA 00079752   $47.05   \n",
              "29  04/25/24                    AplPay PATEL BROTHERS 000000001   $45.16   \n",
              "30  04/28/24                           NETFLIX.COM 866-579-7172   $25.06   \n",
              "\n",
              "   MethodOfTransaction  \n",
              "0            Apple Pay  \n",
              "1                 Card  \n",
              "2                 Card  \n",
              "3            Apple Pay  \n",
              "4                 Card  \n",
              "5            Apple Pay  \n",
              "6                 Card  \n",
              "7            Apple Pay  \n",
              "8                 Card  \n",
              "9            Apple Pay  \n",
              "10                Card  \n",
              "11           Apple Pay  \n",
              "12           Apple Pay  \n",
              "13           Apple Pay  \n",
              "14           Apple Pay  \n",
              "15            Internet  \n",
              "16                Card  \n",
              "17                Card  \n",
              "18                Card  \n",
              "19           Apple Pay  \n",
              "20           Apple Pay  \n",
              "21                Card  \n",
              "22                Card  \n",
              "23                Card  \n",
              "24           Apple Pay  \n",
              "25                Card  \n",
              "26            Internet  \n",
              "27           Apple Pay  \n",
              "28           Apple Pay  \n",
              "29           Apple Pay  \n",
              "30            Internet  "
            ],
            "text/html": [
              "\n",
              "  <div id=\"df-8a90203a-9a10-4d2f-942b-5a00c7eccd95\" class=\"colab-df-container\">\n",
              "    <div>\n",
              "<style scoped>\n",
              "    .dataframe tbody tr th:only-of-type {\n",
              "        vertical-align: middle;\n",
              "    }\n",
              "\n",
              "    .dataframe tbody tr th {\n",
              "        vertical-align: top;\n",
              "    }\n",
              "\n",
              "    .dataframe thead th {\n",
              "        text-align: right;\n",
              "    }\n",
              "</style>\n",
              "<table border=\"1\" class=\"dataframe\">\n",
              "  <thead>\n",
              "    <tr style=\"text-align: right;\">\n",
              "      <th></th>\n",
              "      <th>date</th>\n",
              "      <th>name</th>\n",
              "      <th>amount</th>\n",
              "      <th>MethodOfTransaction</th>\n",
              "    </tr>\n",
              "  </thead>\n",
              "  <tbody>\n",
              "    <tr>\n",
              "      <th>0</th>\n",
              "      <td>03/25/24</td>\n",
              "      <td>DISPUTE CRREVERSAL -AplPay HERTZ CAR RENTAL $7...</td>\n",
              "      <td>$72.88</td>\n",
              "      <td>Apple Pay</td>\n",
              "    </tr>\n",
              "    <tr>\n",
              "      <th>1</th>\n",
              "      <td>04/01/24</td>\n",
              "      <td>COMMONWEALTH COMPANY</td>\n",
              "      <td>$25.89</td>\n",
              "      <td>Card</td>\n",
              "    </tr>\n",
              "    <tr>\n",
              "      <th>2</th>\n",
              "      <td>04/01/24</td>\n",
              "      <td>LOT AEPS 000000045</td>\n",
              "      <td>$3.00</td>\n",
              "      <td>Card</td>\n",
              "    </tr>\n",
              "    <tr>\n",
              "      <th>3</th>\n",
              "      <td>04/02/24</td>\n",
              "      <td>AplPay SUBWAY</td>\n",
              "      <td>$20.17</td>\n",
              "      <td>Apple Pay</td>\n",
              "    </tr>\n",
              "    <tr>\n",
              "      <th>4</th>\n",
              "      <td>04/02/24</td>\n",
              "      <td>STARBUCKS 800-782-7282</td>\n",
              "      <td>$6.59</td>\n",
              "      <td>Card</td>\n",
              "    </tr>\n",
              "    <tr>\n",
              "      <th>5</th>\n",
              "      <td>04/02/24</td>\n",
              "      <td>AplPay PATEL BROTHERS 000000001</td>\n",
              "      <td>$61.90</td>\n",
              "      <td>Apple Pay</td>\n",
              "    </tr>\n",
              "    <tr>\n",
              "      <th>6</th>\n",
              "      <td>04/03/24</td>\n",
              "      <td>LAFITNESS CORP INTL</td>\n",
              "      <td>$10.00</td>\n",
              "      <td>Card</td>\n",
              "    </tr>\n",
              "    <tr>\n",
              "      <th>7</th>\n",
              "      <td>04/03/24</td>\n",
              "      <td>AplPay COMCAST CS1X (800)266-2278</td>\n",
              "      <td>$25.00</td>\n",
              "      <td>Apple Pay</td>\n",
              "    </tr>\n",
              "    <tr>\n",
              "      <th>8</th>\n",
              "      <td>04/07/24</td>\n",
              "      <td>SPOTIFY USA</td>\n",
              "      <td>$6.53</td>\n",
              "      <td>Card</td>\n",
              "    </tr>\n",
              "    <tr>\n",
              "      <th>9</th>\n",
              "      <td>04/07/24</td>\n",
              "      <td>AplPay JEWEL 3443 3443</td>\n",
              "      <td>$20.11</td>\n",
              "      <td>Apple Pay</td>\n",
              "    </tr>\n",
              "    <tr>\n",
              "      <th>10</th>\n",
              "      <td>04/08/24</td>\n",
              "      <td>ARMORY 0000</td>\n",
              "      <td>$2.00</td>\n",
              "      <td>Card</td>\n",
              "    </tr>\n",
              "    <tr>\n",
              "      <th>11</th>\n",
              "      <td>04/08/24</td>\n",
              "      <td>AplPay DUNKIN #343280 Q35 3432</td>\n",
              "      <td>$8.14</td>\n",
              "      <td>Apple Pay</td>\n",
              "    </tr>\n",
              "    <tr>\n",
              "      <th>12</th>\n",
              "      <td>04/08/24</td>\n",
              "      <td>AplPay TARGET 032722 09100032722</td>\n",
              "      <td>$9.47</td>\n",
              "      <td>Apple Pay</td>\n",
              "    </tr>\n",
              "    <tr>\n",
              "      <th>13</th>\n",
              "      <td>04/09/24</td>\n",
              "      <td>AplPay TARGET 020792 09100020792</td>\n",
              "      <td>$13.95</td>\n",
              "      <td>Apple Pay</td>\n",
              "    </tr>\n",
              "    <tr>\n",
              "      <th>14</th>\n",
              "      <td>04/09/24</td>\n",
              "      <td>AplPay TARGET 020792 09100020792</td>\n",
              "      <td>$19.49</td>\n",
              "      <td>Apple Pay</td>\n",
              "    </tr>\n",
              "    <tr>\n",
              "      <th>15</th>\n",
              "      <td>04/10/24</td>\n",
              "      <td>Amazon Prime Amazon.com</td>\n",
              "      <td>$7.49</td>\n",
              "      <td>Internet</td>\n",
              "    </tr>\n",
              "    <tr>\n",
              "      <th>16</th>\n",
              "      <td>04/12/24</td>\n",
              "      <td>SAM'S CLUB 6444 6444</td>\n",
              "      <td>$228.63</td>\n",
              "      <td>Card</td>\n",
              "    </tr>\n",
              "    <tr>\n",
              "      <th>17</th>\n",
              "      <td>04/12/24</td>\n",
              "      <td>SAM'S CLUB 6444 6444</td>\n",
              "      <td>$11.62</td>\n",
              "      <td>Card</td>\n",
              "    </tr>\n",
              "    <tr>\n",
              "      <th>18</th>\n",
              "      <td>04/12/24</td>\n",
              "      <td>PARKINGMETER1 8772427901 0007</td>\n",
              "      <td>$2.75</td>\n",
              "      <td>Card</td>\n",
              "    </tr>\n",
              "    <tr>\n",
              "      <th>19</th>\n",
              "      <td>04/13/24</td>\n",
              "      <td>AplPay PAYRANGE 0000</td>\n",
              "      <td>$25.00</td>\n",
              "      <td>Apple Pay</td>\n",
              "    </tr>\n",
              "    <tr>\n",
              "      <th>20</th>\n",
              "      <td>04/13/24</td>\n",
              "      <td>AplPay FARM SUPERMARKET 941600820178335</td>\n",
              "      <td>$19.68</td>\n",
              "      <td>Apple Pay</td>\n",
              "    </tr>\n",
              "    <tr>\n",
              "      <th>21</th>\n",
              "      <td>04/13/24</td>\n",
              "      <td>USMANIA FINE DINING</td>\n",
              "      <td>$91.59</td>\n",
              "      <td>Card</td>\n",
              "    </tr>\n",
              "    <tr>\n",
              "      <th>22</th>\n",
              "      <td>04/14/24</td>\n",
              "      <td>BOTANIC GARD</td>\n",
              "      <td>$10.00</td>\n",
              "      <td>Card</td>\n",
              "    </tr>\n",
              "    <tr>\n",
              "      <th>23</th>\n",
              "      <td>04/16/24</td>\n",
              "      <td>USCIS I-765 000000055</td>\n",
              "      <td>$470.00</td>\n",
              "      <td>Card</td>\n",
              "    </tr>\n",
              "    <tr>\n",
              "      <th>24</th>\n",
              "      <td>04/17/24</td>\n",
              "      <td>AplPay CHIPOTLE ONLINE 0000</td>\n",
              "      <td>$12.73</td>\n",
              "      <td>Apple Pay</td>\n",
              "    </tr>\n",
              "    <tr>\n",
              "      <th>25</th>\n",
              "      <td>04/18/24</td>\n",
              "      <td>CHATGPT SUBSCRIPTION</td>\n",
              "      <td>$21.80</td>\n",
              "      <td>Card</td>\n",
              "    </tr>\n",
              "    <tr>\n",
              "      <th>26</th>\n",
              "      <td>04/22/24</td>\n",
              "      <td>AplPay APPLE.COM/BILL INTERNET CHARGE</td>\n",
              "      <td>$2.99</td>\n",
              "      <td>Internet</td>\n",
              "    </tr>\n",
              "    <tr>\n",
              "      <th>27</th>\n",
              "      <td>04/23/24</td>\n",
              "      <td>AplPay JEWEL 3443 3443</td>\n",
              "      <td>$61.81</td>\n",
              "      <td>Apple Pay</td>\n",
              "    </tr>\n",
              "    <tr>\n",
              "      <th>28</th>\n",
              "      <td>04/24/24</td>\n",
              "      <td>AplPay TST* LAMEXICANA 00079752</td>\n",
              "      <td>$47.05</td>\n",
              "      <td>Apple Pay</td>\n",
              "    </tr>\n",
              "    <tr>\n",
              "      <th>29</th>\n",
              "      <td>04/25/24</td>\n",
              "      <td>AplPay PATEL BROTHERS 000000001</td>\n",
              "      <td>$45.16</td>\n",
              "      <td>Apple Pay</td>\n",
              "    </tr>\n",
              "    <tr>\n",
              "      <th>30</th>\n",
              "      <td>04/28/24</td>\n",
              "      <td>NETFLIX.COM 866-579-7172</td>\n",
              "      <td>$25.06</td>\n",
              "      <td>Internet</td>\n",
              "    </tr>\n",
              "  </tbody>\n",
              "</table>\n",
              "</div>\n",
              "    <div class=\"colab-df-buttons\">\n",
              "\n",
              "  <div class=\"colab-df-container\">\n",
              "    <button class=\"colab-df-convert\" onclick=\"convertToInteractive('df-8a90203a-9a10-4d2f-942b-5a00c7eccd95')\"\n",
              "            title=\"Convert this dataframe to an interactive table.\"\n",
              "            style=\"display:none;\">\n",
              "\n",
              "  <svg xmlns=\"http://www.w3.org/2000/svg\" height=\"24px\" viewBox=\"0 -960 960 960\">\n",
              "    <path d=\"M120-120v-720h720v720H120Zm60-500h600v-160H180v160Zm220 220h160v-160H400v160Zm0 220h160v-160H400v160ZM180-400h160v-160H180v160Zm440 0h160v-160H620v160ZM180-180h160v-160H180v160Zm440 0h160v-160H620v160Z\"/>\n",
              "  </svg>\n",
              "    </button>\n",
              "\n",
              "  <style>\n",
              "    .colab-df-container {\n",
              "      display:flex;\n",
              "      gap: 12px;\n",
              "    }\n",
              "\n",
              "    .colab-df-convert {\n",
              "      background-color: #E8F0FE;\n",
              "      border: none;\n",
              "      border-radius: 50%;\n",
              "      cursor: pointer;\n",
              "      display: none;\n",
              "      fill: #1967D2;\n",
              "      height: 32px;\n",
              "      padding: 0 0 0 0;\n",
              "      width: 32px;\n",
              "    }\n",
              "\n",
              "    .colab-df-convert:hover {\n",
              "      background-color: #E2EBFA;\n",
              "      box-shadow: 0px 1px 2px rgba(60, 64, 67, 0.3), 0px 1px 3px 1px rgba(60, 64, 67, 0.15);\n",
              "      fill: #174EA6;\n",
              "    }\n",
              "\n",
              "    .colab-df-buttons div {\n",
              "      margin-bottom: 4px;\n",
              "    }\n",
              "\n",
              "    [theme=dark] .colab-df-convert {\n",
              "      background-color: #3B4455;\n",
              "      fill: #D2E3FC;\n",
              "    }\n",
              "\n",
              "    [theme=dark] .colab-df-convert:hover {\n",
              "      background-color: #434B5C;\n",
              "      box-shadow: 0px 1px 3px 1px rgba(0, 0, 0, 0.15);\n",
              "      filter: drop-shadow(0px 1px 2px rgba(0, 0, 0, 0.3));\n",
              "      fill: #FFFFFF;\n",
              "    }\n",
              "  </style>\n",
              "\n",
              "    <script>\n",
              "      const buttonEl =\n",
              "        document.querySelector('#df-8a90203a-9a10-4d2f-942b-5a00c7eccd95 button.colab-df-convert');\n",
              "      buttonEl.style.display =\n",
              "        google.colab.kernel.accessAllowed ? 'block' : 'none';\n",
              "\n",
              "      async function convertToInteractive(key) {\n",
              "        const element = document.querySelector('#df-8a90203a-9a10-4d2f-942b-5a00c7eccd95');\n",
              "        const dataTable =\n",
              "          await google.colab.kernel.invokeFunction('convertToInteractive',\n",
              "                                                    [key], {});\n",
              "        if (!dataTable) return;\n",
              "\n",
              "        const docLinkHtml = 'Like what you see? Visit the ' +\n",
              "          '<a target=\"_blank\" href=https://colab.research.google.com/notebooks/data_table.ipynb>data table notebook</a>'\n",
              "          + ' to learn more about interactive tables.';\n",
              "        element.innerHTML = '';\n",
              "        dataTable['output_type'] = 'display_data';\n",
              "        await google.colab.output.renderOutput(dataTable, element);\n",
              "        const docLink = document.createElement('div');\n",
              "        docLink.innerHTML = docLinkHtml;\n",
              "        element.appendChild(docLink);\n",
              "      }\n",
              "    </script>\n",
              "  </div>\n",
              "\n",
              "\n",
              "<div id=\"df-1658d044-e852-492a-9683-22539e79d7ad\">\n",
              "  <button class=\"colab-df-quickchart\" onclick=\"quickchart('df-1658d044-e852-492a-9683-22539e79d7ad')\"\n",
              "            title=\"Suggest charts\"\n",
              "            style=\"display:none;\">\n",
              "\n",
              "<svg xmlns=\"http://www.w3.org/2000/svg\" height=\"24px\"viewBox=\"0 0 24 24\"\n",
              "     width=\"24px\">\n",
              "    <g>\n",
              "        <path d=\"M19 3H5c-1.1 0-2 .9-2 2v14c0 1.1.9 2 2 2h14c1.1 0 2-.9 2-2V5c0-1.1-.9-2-2-2zM9 17H7v-7h2v7zm4 0h-2V7h2v10zm4 0h-2v-4h2v4z\"/>\n",
              "    </g>\n",
              "</svg>\n",
              "  </button>\n",
              "\n",
              "<style>\n",
              "  .colab-df-quickchart {\n",
              "      --bg-color: #E8F0FE;\n",
              "      --fill-color: #1967D2;\n",
              "      --hover-bg-color: #E2EBFA;\n",
              "      --hover-fill-color: #174EA6;\n",
              "      --disabled-fill-color: #AAA;\n",
              "      --disabled-bg-color: #DDD;\n",
              "  }\n",
              "\n",
              "  [theme=dark] .colab-df-quickchart {\n",
              "      --bg-color: #3B4455;\n",
              "      --fill-color: #D2E3FC;\n",
              "      --hover-bg-color: #434B5C;\n",
              "      --hover-fill-color: #FFFFFF;\n",
              "      --disabled-bg-color: #3B4455;\n",
              "      --disabled-fill-color: #666;\n",
              "  }\n",
              "\n",
              "  .colab-df-quickchart {\n",
              "    background-color: var(--bg-color);\n",
              "    border: none;\n",
              "    border-radius: 50%;\n",
              "    cursor: pointer;\n",
              "    display: none;\n",
              "    fill: var(--fill-color);\n",
              "    height: 32px;\n",
              "    padding: 0;\n",
              "    width: 32px;\n",
              "  }\n",
              "\n",
              "  .colab-df-quickchart:hover {\n",
              "    background-color: var(--hover-bg-color);\n",
              "    box-shadow: 0 1px 2px rgba(60, 64, 67, 0.3), 0 1px 3px 1px rgba(60, 64, 67, 0.15);\n",
              "    fill: var(--button-hover-fill-color);\n",
              "  }\n",
              "\n",
              "  .colab-df-quickchart-complete:disabled,\n",
              "  .colab-df-quickchart-complete:disabled:hover {\n",
              "    background-color: var(--disabled-bg-color);\n",
              "    fill: var(--disabled-fill-color);\n",
              "    box-shadow: none;\n",
              "  }\n",
              "\n",
              "  .colab-df-spinner {\n",
              "    border: 2px solid var(--fill-color);\n",
              "    border-color: transparent;\n",
              "    border-bottom-color: var(--fill-color);\n",
              "    animation:\n",
              "      spin 1s steps(1) infinite;\n",
              "  }\n",
              "\n",
              "  @keyframes spin {\n",
              "    0% {\n",
              "      border-color: transparent;\n",
              "      border-bottom-color: var(--fill-color);\n",
              "      border-left-color: var(--fill-color);\n",
              "    }\n",
              "    20% {\n",
              "      border-color: transparent;\n",
              "      border-left-color: var(--fill-color);\n",
              "      border-top-color: var(--fill-color);\n",
              "    }\n",
              "    30% {\n",
              "      border-color: transparent;\n",
              "      border-left-color: var(--fill-color);\n",
              "      border-top-color: var(--fill-color);\n",
              "      border-right-color: var(--fill-color);\n",
              "    }\n",
              "    40% {\n",
              "      border-color: transparent;\n",
              "      border-right-color: var(--fill-color);\n",
              "      border-top-color: var(--fill-color);\n",
              "    }\n",
              "    60% {\n",
              "      border-color: transparent;\n",
              "      border-right-color: var(--fill-color);\n",
              "    }\n",
              "    80% {\n",
              "      border-color: transparent;\n",
              "      border-right-color: var(--fill-color);\n",
              "      border-bottom-color: var(--fill-color);\n",
              "    }\n",
              "    90% {\n",
              "      border-color: transparent;\n",
              "      border-bottom-color: var(--fill-color);\n",
              "    }\n",
              "  }\n",
              "</style>\n",
              "\n",
              "  <script>\n",
              "    async function quickchart(key) {\n",
              "      const quickchartButtonEl =\n",
              "        document.querySelector('#' + key + ' button');\n",
              "      quickchartButtonEl.disabled = true;  // To prevent multiple clicks.\n",
              "      quickchartButtonEl.classList.add('colab-df-spinner');\n",
              "      try {\n",
              "        const charts = await google.colab.kernel.invokeFunction(\n",
              "            'suggestCharts', [key], {});\n",
              "      } catch (error) {\n",
              "        console.error('Error during call to suggestCharts:', error);\n",
              "      }\n",
              "      quickchartButtonEl.classList.remove('colab-df-spinner');\n",
              "      quickchartButtonEl.classList.add('colab-df-quickchart-complete');\n",
              "    }\n",
              "    (() => {\n",
              "      let quickchartButtonEl =\n",
              "        document.querySelector('#df-1658d044-e852-492a-9683-22539e79d7ad button');\n",
              "      quickchartButtonEl.style.display =\n",
              "        google.colab.kernel.accessAllowed ? 'block' : 'none';\n",
              "    })();\n",
              "  </script>\n",
              "</div>\n",
              "\n",
              "  <div id=\"id_445f2c3c-77e8-4d22-8755-ecdbb78fdb38\">\n",
              "    <style>\n",
              "      .colab-df-generate {\n",
              "        background-color: #E8F0FE;\n",
              "        border: none;\n",
              "        border-radius: 50%;\n",
              "        cursor: pointer;\n",
              "        display: none;\n",
              "        fill: #1967D2;\n",
              "        height: 32px;\n",
              "        padding: 0 0 0 0;\n",
              "        width: 32px;\n",
              "      }\n",
              "\n",
              "      .colab-df-generate:hover {\n",
              "        background-color: #E2EBFA;\n",
              "        box-shadow: 0px 1px 2px rgba(60, 64, 67, 0.3), 0px 1px 3px 1px rgba(60, 64, 67, 0.15);\n",
              "        fill: #174EA6;\n",
              "      }\n",
              "\n",
              "      [theme=dark] .colab-df-generate {\n",
              "        background-color: #3B4455;\n",
              "        fill: #D2E3FC;\n",
              "      }\n",
              "\n",
              "      [theme=dark] .colab-df-generate:hover {\n",
              "        background-color: #434B5C;\n",
              "        box-shadow: 0px 1px 3px 1px rgba(0, 0, 0, 0.15);\n",
              "        filter: drop-shadow(0px 1px 2px rgba(0, 0, 0, 0.3));\n",
              "        fill: #FFFFFF;\n",
              "      }\n",
              "    </style>\n",
              "    <button class=\"colab-df-generate\" onclick=\"generateWithVariable('finance_df')\"\n",
              "            title=\"Generate code using this dataframe.\"\n",
              "            style=\"display:none;\">\n",
              "\n",
              "  <svg xmlns=\"http://www.w3.org/2000/svg\" height=\"24px\"viewBox=\"0 0 24 24\"\n",
              "       width=\"24px\">\n",
              "    <path d=\"M7,19H8.4L18.45,9,17,7.55,7,17.6ZM5,21V16.75L18.45,3.32a2,2,0,0,1,2.83,0l1.4,1.43a1.91,1.91,0,0,1,.58,1.4,1.91,1.91,0,0,1-.58,1.4L9.25,21ZM18.45,9,17,7.55Zm-12,3A5.31,5.31,0,0,0,4.9,8.1,5.31,5.31,0,0,0,1,6.5,5.31,5.31,0,0,0,4.9,4.9,5.31,5.31,0,0,0,6.5,1,5.31,5.31,0,0,0,8.1,4.9,5.31,5.31,0,0,0,12,6.5,5.46,5.46,0,0,0,6.5,12Z\"/>\n",
              "  </svg>\n",
              "    </button>\n",
              "    <script>\n",
              "      (() => {\n",
              "      const buttonEl =\n",
              "        document.querySelector('#id_445f2c3c-77e8-4d22-8755-ecdbb78fdb38 button.colab-df-generate');\n",
              "      buttonEl.style.display =\n",
              "        google.colab.kernel.accessAllowed ? 'block' : 'none';\n",
              "\n",
              "      buttonEl.onclick = () => {\n",
              "        google.colab.notebook.generateWithVariable('finance_df');\n",
              "      }\n",
              "      })();\n",
              "    </script>\n",
              "  </div>\n",
              "\n",
              "    </div>\n",
              "  </div>\n"
            ],
            "application/vnd.google.colaboratory.intrinsic+json": {
              "type": "dataframe",
              "variable_name": "finance_df",
              "summary": "{\n  \"name\": \"finance_df\",\n  \"rows\": 31,\n  \"fields\": [\n    {\n      \"column\": \"date\",\n      \"properties\": {\n        \"dtype\": \"object\",\n        \"num_unique_values\": 19,\n        \"samples\": [\n          \"03/25/24\",\n          \"04/08/24\",\n          \"04/16/24\"\n        ],\n        \"semantic_type\": \"\",\n        \"description\": \"\"\n      }\n    },\n    {\n      \"column\": \"name\",\n      \"properties\": {\n        \"dtype\": \"string\",\n        \"num_unique_values\": 27,\n        \"samples\": [\n          \"SPOTIFY USA\",\n          \"AplPay TARGET 020792 09100020792\",\n          \"AplPay JEWEL 3443 3443\"\n        ],\n        \"semantic_type\": \"\",\n        \"description\": \"\"\n      }\n    },\n    {\n      \"column\": \"amount\",\n      \"properties\": {\n        \"dtype\": \"string\",\n        \"num_unique_values\": 29,\n        \"samples\": [\n          \"$45.16\",\n          \"$228.63\",\n          \"$9.47\"\n        ],\n        \"semantic_type\": \"\",\n        \"description\": \"\"\n      }\n    },\n    {\n      \"column\": \"MethodOfTransaction\",\n      \"properties\": {\n        \"dtype\": \"category\",\n        \"num_unique_values\": 3,\n        \"samples\": [\n          \"Apple Pay\",\n          \"Card\",\n          \"Internet\"\n        ],\n        \"semantic_type\": \"\",\n        \"description\": \"\"\n      }\n    }\n  ]\n}"
            }
          },
          "metadata": {},
          "execution_count": 25
        }
      ]
    },
    {
      "cell_type": "markdown",
      "source": [
        "# **Removing 'AplPay' from the name of service or purchase**"
      ],
      "metadata": {
        "id": "gehHMBoz360O"
      }
    },
    {
      "cell_type": "code",
      "source": [
        "def remove_aplpay(name):\n",
        "    # Create a regular expression pattern to match 'AplPay' followed by a space\n",
        "    pattern = r'\\bAplPay\\s'\n",
        "    # Remove 'AplPay' from the name\n",
        "    cleaned_name = re.sub(pattern, '', name, flags=re.IGNORECASE)\n",
        "    return cleaned_name\n",
        "\n",
        "# Apply the function to the 'name' column\n",
        "finance_df['name'] = finance_df['name'].apply(remove_aplpay)"
      ],
      "metadata": {
        "id": "_CTA4iLntygY"
      },
      "execution_count": 26,
      "outputs": []
    },
    {
      "cell_type": "markdown",
      "source": [
        "# **Cleaning the general dirty tokens out of 'name'**"
      ],
      "metadata": {
        "id": "NJ89uX9x4Gb5"
      }
    },
    {
      "cell_type": "markdown",
      "source": [
        "**Online Payment were denoted as 'ONLINE'**"
      ],
      "metadata": {
        "id": "Q92zOLC29ekc"
      }
    },
    {
      "cell_type": "code",
      "source": [
        "def clean_name(name):\n",
        "    # Remove 'ONLINE' from the name\n",
        "    cleaned_name = re.sub(r'\\bONLINE\\b', '', name)\n",
        "    return cleaned_name.strip()\n",
        "\n",
        "# Apply the function to the 'name' column\n",
        "finance_df['name'] = finance_df['name'].apply(clean_name)"
      ],
      "metadata": {
        "id": "5mAqNVeB9bqN"
      },
      "execution_count": 27,
      "outputs": []
    },
    {
      "cell_type": "markdown",
      "source": [
        "**Transaction numbers for the respective service provider were removed**"
      ],
      "metadata": {
        "id": "pQSG0mOl9sUg"
      }
    },
    {
      "cell_type": "code",
      "source": [
        "# Function to clean the 'name' column\n",
        "def clean_name(name):\n",
        "    # Remove any text that appears after a number\n",
        "    cleaned_name = re.sub(r'\\d{2}.*$', '', name)\n",
        "    return cleaned_name.strip()\n",
        "\n",
        "# Apply the function to the 'name' column\n",
        "finance_df['name'] = finance_df['name'].apply(clean_name)\n",
        "\n",
        "# Before each transaction ID '#' were mentioned\n",
        "finance_df['name'] = finance_df['name'].str.replace('#', '')"
      ],
      "metadata": {
        "id": "Wcj5Q6eZ8R2H"
      },
      "execution_count": 28,
      "outputs": []
    },
    {
      "cell_type": "markdown",
      "source": [
        "**Transaction made through website were denoted by 'HTPPS' and '.COM' urls in names were removed**"
      ],
      "metadata": {
        "id": "c-UUNLxi-Cy-"
      }
    },
    {
      "cell_type": "code",
      "source": [
        "# Removing everything after 'HTTPS' or 'https' in the 'name' column\n",
        "finance_df['name'] = finance_df['name'].str.replace(r'\\s*HTTPS?://.*', '')\n"
      ],
      "metadata": {
        "id": "0kWjnB7o822r"
      },
      "execution_count": 29,
      "outputs": []
    },
    {
      "cell_type": "code",
      "source": [
        "# Removing everything after '.COM' in the 'name' column\n",
        "finance_df['name'] = finance_df['name'].str.replace(r'\\.COM.*', '', regex=True)\n",
        "finance_df['name'] = finance_df['name'].str.replace(r'\\.com.*', '', regex=True)"
      ],
      "metadata": {
        "id": "DbnKr-TBxkSW"
      },
      "execution_count": 30,
      "outputs": []
    },
    {
      "cell_type": "markdown",
      "source": [
        " **Changing common names adjustments which cannot be changed in general means**"
      ],
      "metadata": {
        "id": "prRyKLcN3yfj"
      }
    },
    {
      "cell_type": "code",
      "source": [
        "# Replace 'Uber Trip help.uber' with 'Uber Trip' and 'UBER EATS help.uber' with 'UBER EATS' in the 'name' column\n",
        "finance_df['name'] = finance_df['name'].str.replace('Uber Trip help.uber', 'Uber Trip').str.replace('UBER EATS help.uber', 'UBER EATS').str.replace('EBAY O\\*', 'EBAY').str.replace('AMAZON MARKETPLACE NAPA AMZN', 'Amazon')"
      ],
      "metadata": {
        "id": "C36hYBEo2hLX"
      },
      "execution_count": 31,
      "outputs": []
    },
    {
      "cell_type": "code",
      "source": [
        "finance_df['name'] = finance_df['name'].str.replace('COMCAST CS1X \\(', 'COMCAST', regex=True)"
      ],
      "metadata": {
        "id": "klbj6HUqNcNq"
      },
      "execution_count": 32,
      "outputs": []
    },
    {
      "cell_type": "markdown",
      "source": [
        "##  Basically Restaurants charge Tips after couple of days so Creditcard bank use to denoted pending transaction as 'TST*', we need to remove those details before making summary"
      ],
      "metadata": {
        "id": "S3p7_5by5trd"
      }
    },
    {
      "cell_type": "code",
      "source": [
        "def clean_name(name):\n",
        "    # Remove 'TST*' prefix if it exists\n",
        "    cleaned_name = re.sub(r'^TST\\*\\s*', '', name)\n",
        "    return cleaned_name.strip()\n",
        "\n",
        "# Apply the function to the 'name' column\n",
        "finance_df['name'] = finance_df['name'].apply(clean_name)"
      ],
      "metadata": {
        "id": "05ifNRdg7uvs"
      },
      "execution_count": 33,
      "outputs": []
    },
    {
      "cell_type": "markdown",
      "source": [
        "**Working On 'Amount' and 'date' Variable**"
      ],
      "metadata": {
        "id": "Op9LLyaM7U6I"
      }
    },
    {
      "cell_type": "code",
      "source": [
        " # Change date column to datetime format\n",
        "finance_df['date'] = pd.to_datetime(finance_df['date'], errors='coerce')\n",
        "\n",
        "# Remove '$' sign and change amount column to decimal format\n",
        "finance_df['amount'] = finance_df['amount'].str.replace('$', '').astype(float)\n",
        "\n",
        "# Print the updated DataFrame\n",
        "print(finance_df)"
      ],
      "metadata": {
        "colab": {
          "base_uri": "https://localhost:8080/"
        },
        "id": "0sfyHYIT4chT",
        "outputId": "acaf92a2-82e9-491e-bee3-7292ec84b395"
      },
      "execution_count": 34,
      "outputs": [
        {
          "output_type": "stream",
          "name": "stdout",
          "text": [
            "         date                                    name  amount  \\\n",
            "0  2024-03-25  DISPUTE CRREVERSAL -HERTZ CAR RENTAL $   72.88   \n",
            "1  2024-04-01                    COMMONWEALTH COMPANY   25.89   \n",
            "2  2024-04-01                                LOT AEPS    3.00   \n",
            "3  2024-04-02                                  SUBWAY   20.17   \n",
            "4  2024-04-02                               STARBUCKS    6.59   \n",
            "5  2024-04-02                          PATEL BROTHERS   61.90   \n",
            "6  2024-04-03                     LAFITNESS CORP INTL   10.00   \n",
            "7  2024-04-03                                 COMCAST   25.00   \n",
            "8  2024-04-07                             SPOTIFY USA    6.53   \n",
            "9  2024-04-07                                   JEWEL   20.11   \n",
            "10 2024-04-08                                  ARMORY    2.00   \n",
            "11 2024-04-08                                  DUNKIN    8.14   \n",
            "12 2024-04-08                                  TARGET    9.47   \n",
            "13 2024-04-09                                  TARGET   13.95   \n",
            "14 2024-04-09                                  TARGET   19.49   \n",
            "15 2024-04-10                     Amazon Prime Amazon    7.49   \n",
            "16 2024-04-12                              SAM'S CLUB  228.63   \n",
            "17 2024-04-12                              SAM'S CLUB   11.62   \n",
            "18 2024-04-12                           PARKINGMETER1    2.75   \n",
            "19 2024-04-13                                PAYRANGE   25.00   \n",
            "20 2024-04-13                        FARM SUPERMARKET   19.68   \n",
            "21 2024-04-13                     USMANIA FINE DINING   91.59   \n",
            "22 2024-04-14                            BOTANIC GARD   10.00   \n",
            "23 2024-04-16                                USCIS I-  470.00   \n",
            "24 2024-04-17                                CHIPOTLE   12.73   \n",
            "25 2024-04-18                    CHATGPT SUBSCRIPTION   21.80   \n",
            "26 2024-04-22                                   APPLE    2.99   \n",
            "27 2024-04-23                                   JEWEL   61.81   \n",
            "28 2024-04-24                              LAMEXICANA   47.05   \n",
            "29 2024-04-25                          PATEL BROTHERS   45.16   \n",
            "30 2024-04-28                                 NETFLIX   25.06   \n",
            "\n",
            "   MethodOfTransaction  \n",
            "0            Apple Pay  \n",
            "1                 Card  \n",
            "2                 Card  \n",
            "3            Apple Pay  \n",
            "4                 Card  \n",
            "5            Apple Pay  \n",
            "6                 Card  \n",
            "7            Apple Pay  \n",
            "8                 Card  \n",
            "9            Apple Pay  \n",
            "10                Card  \n",
            "11           Apple Pay  \n",
            "12           Apple Pay  \n",
            "13           Apple Pay  \n",
            "14           Apple Pay  \n",
            "15            Internet  \n",
            "16                Card  \n",
            "17                Card  \n",
            "18                Card  \n",
            "19           Apple Pay  \n",
            "20           Apple Pay  \n",
            "21                Card  \n",
            "22                Card  \n",
            "23                Card  \n",
            "24           Apple Pay  \n",
            "25                Card  \n",
            "26            Internet  \n",
            "27           Apple Pay  \n",
            "28           Apple Pay  \n",
            "29           Apple Pay  \n",
            "30            Internet  \n"
          ]
        },
        {
          "output_type": "stream",
          "name": "stderr",
          "text": [
            "<ipython-input-34-fe330b725f06>:2: UserWarning: Could not infer format, so each element will be parsed individually, falling back to `dateutil`. To ensure parsing is consistent and as-expected, please specify a format.\n",
            "  finance_df['date'] = pd.to_datetime(finance_df['date'], errors='coerce')\n"
          ]
        }
      ]
    },
    {
      "cell_type": "markdown",
      "source": [
        "# **Creating categories variable to make sense on what basis the user actually spends. For Instances, If user spend on *'Walmart'*, *'Shopping'* item needs to assigned in categories variable**"
      ],
      "metadata": {
        "id": "KdzjxC2PB2D_"
      }
    },
    {
      "cell_type": "markdown",
      "source": [
        "categorizing **Restaurants** in the Statement"
      ],
      "metadata": {
        "id": "gYa8-gQguFTK"
      }
    },
    {
      "cell_type": "code",
      "source": [
        "import pandas as pd\n",
        "\n",
        "# Read the CSV file\n",
        "RestaurantData = pd.read_csv('/content/Restaurant_20240414.csv')\n",
        "\n",
        "# Display the first few rows of the DataFrame\n",
        "print(RestaurantData.head())"
      ],
      "metadata": {
        "colab": {
          "base_uri": "https://localhost:8080/"
        },
        "id": "gD1oI9pkuEoX",
        "outputId": "174e8bc2-70ec-4c3c-9268-01486aee5609"
      },
      "execution_count": 35,
      "outputs": [
        {
          "output_type": "stream",
          "name": "stdout",
          "text": [
            "                    DBA Name                   AKA Name  License #  \\\n",
            "0                   WINGSTOP                   WINGSTOP    2632290   \n",
            "1                JET'S PIZZA                JET'S PIZZA    2808884   \n",
            "2          A TASTE OF HEAVEN          A TASTE OF HEAVEN    1490322   \n",
            "3  WEST INDIES INTERNATIONAL  WEST INDIES INTERNATIONAL      33183   \n",
            "4          SMOKE FILLED ROOM          SMOKE FILLED ROOM    2517829   \n",
            "\n",
            "  Facility Type             Risk             Address     City State      Zip  \\\n",
            "0    Restaurant    Risk 1 (High)    830 N MILWAUKEE   CHICAGO    IL  60642.0   \n",
            "1    Restaurant  Risk 2 (Medium)    7070 N CLARK ST   CHICAGO    IL  60626.0   \n",
            "2    Restaurant    Risk 1 (High)    5401 N CLARK ST   CHICAGO    IL  60640.0   \n",
            "3    Restaurant    Risk 1 (High)  839-841 E 79TH ST   CHICAGO    IL  60619.0   \n",
            "4    Restaurant    Risk 1 (High)     3359 W 79TH ST   CHICAGO    IL  60652.0   \n",
            "\n",
            "  Inspection Date        Inspection Type             Results  \\\n",
            "0      04/11/2024                Canvass  Pass w/ Conditions   \n",
            "1      04/11/2024                Canvass     Out of Business   \n",
            "2      04/10/2024  Canvass Re-Inspection                Pass   \n",
            "3      04/10/2024         Non-Inspection            No Entry   \n",
            "4      04/10/2024         Non-Inspection            No Entry   \n",
            "\n",
            "                                          Violations   Latitude  Longitude  \\\n",
            "0  58. ALLERGEN TRAINING AS REQUIRED - Comments: ...  41.896918 -87.656686   \n",
            "1                                                NaN  42.011051 -87.674526   \n",
            "2                                                NaN  41.979895 -87.668136   \n",
            "3                                                NaN  41.751195 -87.603653   \n",
            "4                                                NaN  41.749557 -87.707211   \n",
            "\n",
            "                                  Location  \n",
            "0  (41.89691823704051, -87.65668624184336)  \n",
            "1  (42.01105071792773, -87.67452597188544)  \n",
            "2   (41.9798953557881, -87.66813564252394)  \n",
            "3  (41.75119526145043, -87.60365276290436)  \n",
            "4   (41.7495573130227, -87.70721111204942)  \n"
          ]
        }
      ]
    },
    {
      "cell_type": "code",
      "source": [
        "import re\n",
        "\n",
        "# Create an empty DataFrame with columns\n",
        "counts_df = pd.DataFrame(columns=['name', 'categories'])\n",
        "\n",
        "# Iterate over each name in finance_df['name']\n",
        "for name in finance_df['name'].unique():\n",
        "    # Escape special characters in the name\n",
        "    escaped_name = re.escape(name)\n",
        "\n",
        "    # Check if any name in CatgryData['market_name'] contains the current name\n",
        "    mask = RestaurantData['DBA Name'].str.contains(escaped_name, case=False, na=False)\n",
        "\n",
        "    # Get the corresponding supermarket_type if there is a match\n",
        "    supermarket_type = RestaurantData.loc[mask, 'Facility Type'].iloc[0] if mask.any() else None\n",
        "\n",
        "    # Append the name and supermarket_type to the counts DataFrame\n",
        "    counts_df.loc[len(counts_df)] = {'name': name, 'categories': supermarket_type}\n",
        "\n",
        "# Merge counts_df with finance_df to add the 'supermarket_type' column\n",
        "finance_df = finance_df.merge(counts_df, on='name', how='left')\n",
        "\n",
        "print(finance_df[20:40])\n"
      ],
      "metadata": {
        "colab": {
          "base_uri": "https://localhost:8080/"
        },
        "id": "aq71GLrdvoih",
        "outputId": "51c22446-ba54-4430-ff7b-605728165032"
      },
      "execution_count": 36,
      "outputs": [
        {
          "output_type": "stream",
          "name": "stdout",
          "text": [
            "         date                  name  amount MethodOfTransaction  categories\n",
            "20 2024-04-13      FARM SUPERMARKET   19.68           Apple Pay        None\n",
            "21 2024-04-13   USMANIA FINE DINING   91.59                Card  Restaurant\n",
            "22 2024-04-14          BOTANIC GARD   10.00                Card        None\n",
            "23 2024-04-16              USCIS I-  470.00                Card        None\n",
            "24 2024-04-17              CHIPOTLE   12.73           Apple Pay  Restaurant\n",
            "25 2024-04-18  CHATGPT SUBSCRIPTION   21.80                Card        None\n",
            "26 2024-04-22                 APPLE    2.99            Internet  Restaurant\n",
            "27 2024-04-23                 JEWEL   61.81           Apple Pay  Restaurant\n",
            "28 2024-04-24            LAMEXICANA   47.05           Apple Pay        None\n",
            "29 2024-04-25        PATEL BROTHERS   45.16           Apple Pay        None\n",
            "30 2024-04-28               NETFLIX   25.06            Internet        None\n"
          ]
        }
      ]
    },
    {
      "cell_type": "markdown",
      "source": [
        "categorizing **Supermarkets** or **grocery store** in the Statement"
      ],
      "metadata": {
        "id": "VHMhXOlf0PXn"
      }
    },
    {
      "cell_type": "code",
      "source": [
        "import pandas as pd\n",
        "\n",
        "# Read the CSV file\n",
        "superMarketData = pd.read_csv('/content/Grocery_Store_Status_20240413.csv')\n",
        "\n",
        "# Display the first few rows of the DataFrame\n",
        "print(superMarketData.head())"
      ],
      "metadata": {
        "colab": {
          "base_uri": "https://localhost:8080/"
        },
        "id": "uMLBWX-p0eSz",
        "outputId": "f9fa9198-921f-4990-e5ab-9ca0da992cb5"
      },
      "execution_count": 37,
      "outputs": [
        {
          "output_type": "stream",
          "name": "stdout",
          "text": [
            "               Store Name                  Address         Zip New status  \\\n",
            "0            Jewel - Osco             87 W 87th St       60620       OPEN   \n",
            "1           Farm on Ogden         3555 W OGDEN AVE       60623       OPEN   \n",
            "2            Jewel - Osco       5343 N Broadway St  60640-2311       OPEN   \n",
            "3  International Foods NW     4404 W FULLERTON AVE       60639       OPEN   \n",
            "4            Jewel - Osco  2520 N Narragansett Ave  60639-1041       OPEN   \n",
            "\n",
            "             Last updated                      Location  \n",
            "0  06/03/2020 05:00:00 PM  POINT (-87.626243 41.736172)  \n",
            "1  06/10/2020 12:00:00 AM   POINT (-87.71437 41.854608)  \n",
            "2  06/03/2020 05:00:00 PM  POINT (-87.659887 41.978998)  \n",
            "3  06/10/2020 12:00:00 AM  POINT (-87.737127 41.924425)  \n",
            "4  06/03/2020 05:00:00 PM  POINT (-87.785559 41.926236)  \n"
          ]
        }
      ]
    },
    {
      "cell_type": "code",
      "source": [
        "import re\n",
        "\n",
        "# Create an empty DataFrame with columns\n",
        "counts_df = pd.DataFrame(columns=['name', 'categories'])\n",
        "\n",
        "# Iterate over each name in finance_df['name']\n",
        "for name in finance_df['name'].unique():\n",
        "    # Prepare a regex pattern to match the name without hyphens and case-insensitive\n",
        "    pattern = re.escape(name.replace('-', ''))\n",
        "\n",
        "    # Check if any name in superMarketData['Store Name'] contains the current name\n",
        "    mask = superMarketData['Store Name'].str.contains(pattern, case=False, na=False)\n",
        "\n",
        "    # Get the corresponding category 'Grocery' if there is a match\n",
        "    category = 'Shopping' if mask.any() else None\n",
        "\n",
        "    # Append the name and category to the counts DataFrame if category is not None\n",
        "    if category is not None:\n",
        "        counts_df.loc[len(counts_df)] = {'name': name, 'categories': category}\n",
        "\n",
        "# Merge counts_df with finance_df to add the 'categories' column\n",
        "finance_df = finance_df.merge(counts_df, on='name', how='left')\n",
        "\n",
        "print(finance_df[20:40])\n"
      ],
      "metadata": {
        "colab": {
          "base_uri": "https://localhost:8080/"
        },
        "id": "448K53lY2sr0",
        "outputId": "367d7c65-6b80-4f24-88b4-d3698efdec24"
      },
      "execution_count": 38,
      "outputs": [
        {
          "output_type": "stream",
          "name": "stdout",
          "text": [
            "         date                  name  amount MethodOfTransaction categories_x  \\\n",
            "20 2024-04-13      FARM SUPERMARKET   19.68           Apple Pay         None   \n",
            "21 2024-04-13   USMANIA FINE DINING   91.59                Card   Restaurant   \n",
            "22 2024-04-14          BOTANIC GARD   10.00                Card         None   \n",
            "23 2024-04-16              USCIS I-  470.00                Card         None   \n",
            "24 2024-04-17              CHIPOTLE   12.73           Apple Pay   Restaurant   \n",
            "25 2024-04-18  CHATGPT SUBSCRIPTION   21.80                Card         None   \n",
            "26 2024-04-22                 APPLE    2.99            Internet   Restaurant   \n",
            "27 2024-04-23                 JEWEL   61.81           Apple Pay   Restaurant   \n",
            "28 2024-04-24            LAMEXICANA   47.05           Apple Pay         None   \n",
            "29 2024-04-25        PATEL BROTHERS   45.16           Apple Pay         None   \n",
            "30 2024-04-28               NETFLIX   25.06            Internet         None   \n",
            "\n",
            "   categories_y  \n",
            "20          NaN  \n",
            "21          NaN  \n",
            "22          NaN  \n",
            "23          NaN  \n",
            "24          NaN  \n",
            "25          NaN  \n",
            "26     Shopping  \n",
            "27     Shopping  \n",
            "28          NaN  \n",
            "29          NaN  \n",
            "30          NaN  \n"
          ]
        }
      ]
    },
    {
      "cell_type": "code",
      "source": [
        "import numpy as np\n",
        "\n",
        "# Create a new column 'category' based on categories_x and categories_y\n",
        "finance_df['category'] = np.where(\n",
        "    (finance_df['categories_x'] == 'Restaurant') & (finance_df['categories_y'] == 'Shopping'),\n",
        "    'Shopping',\n",
        "    np.where(\n",
        "        (finance_df['categories_x'] == 'Restaurant') |\n",
        "        ((finance_df['categories_x'] == 'Restaurant') & (finance_df['categories_y'] == 'Shopping')),\n",
        "        'Restaurant',\n",
        "        np.where(\n",
        "            (finance_df['categories_x'] == 'Shopping') |\n",
        "            ((finance_df['categories_x'].isnull()) & (finance_df['categories_y'] == 'Shopping')),\n",
        "            'Shopping',\n",
        "            np.where(\n",
        "                finance_df['categories_x'].isnull() & finance_df['categories_y'].isnull(),\n",
        "                None,\n",
        "                finance_df['categories_x']\n",
        "            )\n",
        "        )\n",
        "    )\n",
        ")\n",
        "\n",
        "# Drop the 'categories_x' and 'categories_y' columns\n",
        "finance_df.drop(['categories_x', 'categories_y'], axis=1, inplace=True)\n",
        "\n",
        "print(finance_df)\n"
      ],
      "metadata": {
        "colab": {
          "base_uri": "https://localhost:8080/"
        },
        "id": "oIvLDkEm-IR5",
        "outputId": "fb937150-2d32-40cf-ee6e-d2b871aa9ba3"
      },
      "execution_count": 39,
      "outputs": [
        {
          "output_type": "stream",
          "name": "stdout",
          "text": [
            "         date                                    name  amount  \\\n",
            "0  2024-03-25  DISPUTE CRREVERSAL -HERTZ CAR RENTAL $   72.88   \n",
            "1  2024-04-01                    COMMONWEALTH COMPANY   25.89   \n",
            "2  2024-04-01                                LOT AEPS    3.00   \n",
            "3  2024-04-02                                  SUBWAY   20.17   \n",
            "4  2024-04-02                               STARBUCKS    6.59   \n",
            "5  2024-04-02                          PATEL BROTHERS   61.90   \n",
            "6  2024-04-03                     LAFITNESS CORP INTL   10.00   \n",
            "7  2024-04-03                                 COMCAST   25.00   \n",
            "8  2024-04-07                             SPOTIFY USA    6.53   \n",
            "9  2024-04-07                                   JEWEL   20.11   \n",
            "10 2024-04-08                                  ARMORY    2.00   \n",
            "11 2024-04-08                                  DUNKIN    8.14   \n",
            "12 2024-04-08                                  TARGET    9.47   \n",
            "13 2024-04-09                                  TARGET   13.95   \n",
            "14 2024-04-09                                  TARGET   19.49   \n",
            "15 2024-04-10                     Amazon Prime Amazon    7.49   \n",
            "16 2024-04-12                              SAM'S CLUB  228.63   \n",
            "17 2024-04-12                              SAM'S CLUB   11.62   \n",
            "18 2024-04-12                           PARKINGMETER1    2.75   \n",
            "19 2024-04-13                                PAYRANGE   25.00   \n",
            "20 2024-04-13                        FARM SUPERMARKET   19.68   \n",
            "21 2024-04-13                     USMANIA FINE DINING   91.59   \n",
            "22 2024-04-14                            BOTANIC GARD   10.00   \n",
            "23 2024-04-16                                USCIS I-  470.00   \n",
            "24 2024-04-17                                CHIPOTLE   12.73   \n",
            "25 2024-04-18                    CHATGPT SUBSCRIPTION   21.80   \n",
            "26 2024-04-22                                   APPLE    2.99   \n",
            "27 2024-04-23                                   JEWEL   61.81   \n",
            "28 2024-04-24                              LAMEXICANA   47.05   \n",
            "29 2024-04-25                          PATEL BROTHERS   45.16   \n",
            "30 2024-04-28                                 NETFLIX   25.06   \n",
            "\n",
            "   MethodOfTransaction    category  \n",
            "0            Apple Pay        None  \n",
            "1                 Card        None  \n",
            "2                 Card        None  \n",
            "3            Apple Pay  Restaurant  \n",
            "4                 Card  Restaurant  \n",
            "5            Apple Pay        None  \n",
            "6                 Card        None  \n",
            "7            Apple Pay        None  \n",
            "8                 Card        None  \n",
            "9            Apple Pay    Shopping  \n",
            "10                Card        None  \n",
            "11           Apple Pay  Restaurant  \n",
            "12           Apple Pay    Shopping  \n",
            "13           Apple Pay    Shopping  \n",
            "14           Apple Pay    Shopping  \n",
            "15            Internet        None  \n",
            "16                Card        None  \n",
            "17                Card        None  \n",
            "18                Card        None  \n",
            "19           Apple Pay        None  \n",
            "20           Apple Pay        None  \n",
            "21                Card  Restaurant  \n",
            "22                Card        None  \n",
            "23                Card        None  \n",
            "24           Apple Pay  Restaurant  \n",
            "25                Card        None  \n",
            "26            Internet    Shopping  \n",
            "27           Apple Pay    Shopping  \n",
            "28           Apple Pay        None  \n",
            "29           Apple Pay        None  \n",
            "30            Internet        None  \n"
          ]
        }
      ]
    },
    {
      "cell_type": "markdown",
      "source": [
        "categorizing **Online streaming platform** in the Statement"
      ],
      "metadata": {
        "id": "wikiachGOrwa"
      }
    },
    {
      "cell_type": "code",
      "source": [
        "# Read the CSV file\n",
        "streamingData = pd.read_csv('/content/TopPlatforms.csv', encoding='latin-1')\n",
        "\n",
        "# Display the first few rows of the DataFrame\n",
        "print(streamingData.head())"
      ],
      "metadata": {
        "colab": {
          "base_uri": "https://localhost:8080/"
        },
        "id": "F7N1Jd5CsLOm",
        "outputId": "3d602d16-53f0-4ddb-bace-441e83b6f172"
      },
      "execution_count": 40,
      "outputs": [
        {
          "output_type": "stream",
          "name": "stdout",
          "text": [
            "                 Name                                           Overview\n",
            "0             YouTube  The most popular video streaming service in th...\n",
            "1             Netflix  Netflix is the largest paid-for video streamin...\n",
            "2  Amazon Prime Video  One of the many perks of an Amazon Prime subsc...\n",
            "3             Disney+  Launched in November 2019, Disney+ is already ...\n",
            "4           Apple TV+  Apple has the deepest pockets of any company i...\n"
          ]
        }
      ]
    },
    {
      "cell_type": "code",
      "source": [
        "streamingData['Usage'] = 'Online Streaming Platform'\n",
        "streamingData['Name'] = streamingData['Name'].replace('Amazon Prime Video', 'Amazon Prime Amazon')"
      ],
      "metadata": {
        "id": "AqvW0Gm-P-Kg"
      },
      "execution_count": 41,
      "outputs": []
    },
    {
      "cell_type": "code",
      "source": [
        "# Append a new row for Spotify\n",
        "streamingData.loc[len(streamingData)] = ['Spotify', '','Online Streaming Platform']\n",
        "\n",
        "# Display the updated DataFrame\n",
        "print(streamingData)\n"
      ],
      "metadata": {
        "id": "gXAjG9_zOeb3",
        "colab": {
          "base_uri": "https://localhost:8080/"
        },
        "outputId": "8d2d371f-8580-476d-9797-f4ab7d4aa874"
      },
      "execution_count": 42,
      "outputs": [
        {
          "output_type": "stream",
          "name": "stdout",
          "text": [
            "                   Name                                           Overview  \\\n",
            "0               YouTube  The most popular video streaming service in th...   \n",
            "1               Netflix  Netflix is the largest paid-for video streamin...   \n",
            "2   Amazon Prime Amazon  One of the many perks of an Amazon Prime subsc...   \n",
            "3               Disney+  Launched in November 2019, Disney+ is already ...   \n",
            "4             Apple TV+  Apple has the deepest pockets of any company i...   \n",
            "5                  Hulu  Hulu has a wide range of US television series,...   \n",
            "6               Peacock  NBC Universals attempt to compete with Netfli...   \n",
            "7               HBO Max  HBO Max is the latest video streaming service ...   \n",
            "8           BBC iPlayer  The premier streaming service for UK televisio...   \n",
            "9               ITV Hub  The other half of British TV programming, resp...   \n",
            "10        Tencent Video  Chinas most popular video streaming service i...   \n",
            "11                iQiyi  Baidus video streaming service, the first to ...   \n",
            "12                Youku  The original video streaming service in China,...   \n",
            "13              Hotstar  Indias most popular video streaming service w...   \n",
            "14               Twitch  The most popular streaming service for video g...   \n",
            "15                DouYu  Chinas video game streaming industry is boomi...   \n",
            "16              Spotify                                                      \n",
            "\n",
            "                        Usage  \n",
            "0   Online Streaming Platform  \n",
            "1   Online Streaming Platform  \n",
            "2   Online Streaming Platform  \n",
            "3   Online Streaming Platform  \n",
            "4   Online Streaming Platform  \n",
            "5   Online Streaming Platform  \n",
            "6   Online Streaming Platform  \n",
            "7   Online Streaming Platform  \n",
            "8   Online Streaming Platform  \n",
            "9   Online Streaming Platform  \n",
            "10  Online Streaming Platform  \n",
            "11  Online Streaming Platform  \n",
            "12  Online Streaming Platform  \n",
            "13  Online Streaming Platform  \n",
            "14  Online Streaming Platform  \n",
            "15  Online Streaming Platform  \n",
            "16  Online Streaming Platform  \n"
          ]
        }
      ]
    },
    {
      "cell_type": "code",
      "source": [
        "import numpy as np\n",
        "\n",
        "# Convert names to lowercase for case-insensitive comparison\n",
        "finance_df['lower_name'] = finance_df['name'].str.lower()\n",
        "streamingData['lower_name'] = streamingData['Name'].str.lower()\n",
        "\n",
        "# Update categories based on streamingData\n",
        "finance_df['category'] = np.where(\n",
        "    finance_df['lower_name'].isin(streamingData['lower_name']),\n",
        "    'Online Streaming Platform',\n",
        "    finance_df['category']\n",
        ")\n",
        "\n",
        "# Remove the temporary 'lower_name' columns\n",
        "finance_df.drop('lower_name', axis=1, inplace=True)\n",
        "streamingData.drop('lower_name', axis=1, inplace=True)\n",
        "\n",
        "print(finance_df)\n",
        "\n"
      ],
      "metadata": {
        "colab": {
          "base_uri": "https://localhost:8080/"
        },
        "id": "3FhnYEohJ9R5",
        "outputId": "8c1e0cb3-0d13-4a46-98b2-52032b35bdce"
      },
      "execution_count": 43,
      "outputs": [
        {
          "output_type": "stream",
          "name": "stdout",
          "text": [
            "         date                                    name  amount  \\\n",
            "0  2024-03-25  DISPUTE CRREVERSAL -HERTZ CAR RENTAL $   72.88   \n",
            "1  2024-04-01                    COMMONWEALTH COMPANY   25.89   \n",
            "2  2024-04-01                                LOT AEPS    3.00   \n",
            "3  2024-04-02                                  SUBWAY   20.17   \n",
            "4  2024-04-02                               STARBUCKS    6.59   \n",
            "5  2024-04-02                          PATEL BROTHERS   61.90   \n",
            "6  2024-04-03                     LAFITNESS CORP INTL   10.00   \n",
            "7  2024-04-03                                 COMCAST   25.00   \n",
            "8  2024-04-07                             SPOTIFY USA    6.53   \n",
            "9  2024-04-07                                   JEWEL   20.11   \n",
            "10 2024-04-08                                  ARMORY    2.00   \n",
            "11 2024-04-08                                  DUNKIN    8.14   \n",
            "12 2024-04-08                                  TARGET    9.47   \n",
            "13 2024-04-09                                  TARGET   13.95   \n",
            "14 2024-04-09                                  TARGET   19.49   \n",
            "15 2024-04-10                     Amazon Prime Amazon    7.49   \n",
            "16 2024-04-12                              SAM'S CLUB  228.63   \n",
            "17 2024-04-12                              SAM'S CLUB   11.62   \n",
            "18 2024-04-12                           PARKINGMETER1    2.75   \n",
            "19 2024-04-13                                PAYRANGE   25.00   \n",
            "20 2024-04-13                        FARM SUPERMARKET   19.68   \n",
            "21 2024-04-13                     USMANIA FINE DINING   91.59   \n",
            "22 2024-04-14                            BOTANIC GARD   10.00   \n",
            "23 2024-04-16                                USCIS I-  470.00   \n",
            "24 2024-04-17                                CHIPOTLE   12.73   \n",
            "25 2024-04-18                    CHATGPT SUBSCRIPTION   21.80   \n",
            "26 2024-04-22                                   APPLE    2.99   \n",
            "27 2024-04-23                                   JEWEL   61.81   \n",
            "28 2024-04-24                              LAMEXICANA   47.05   \n",
            "29 2024-04-25                          PATEL BROTHERS   45.16   \n",
            "30 2024-04-28                                 NETFLIX   25.06   \n",
            "\n",
            "   MethodOfTransaction                   category  \n",
            "0            Apple Pay                       None  \n",
            "1                 Card                       None  \n",
            "2                 Card                       None  \n",
            "3            Apple Pay                 Restaurant  \n",
            "4                 Card                 Restaurant  \n",
            "5            Apple Pay                       None  \n",
            "6                 Card                       None  \n",
            "7            Apple Pay                       None  \n",
            "8                 Card                       None  \n",
            "9            Apple Pay                   Shopping  \n",
            "10                Card                       None  \n",
            "11           Apple Pay                 Restaurant  \n",
            "12           Apple Pay                   Shopping  \n",
            "13           Apple Pay                   Shopping  \n",
            "14           Apple Pay                   Shopping  \n",
            "15            Internet  Online Streaming Platform  \n",
            "16                Card                       None  \n",
            "17                Card                       None  \n",
            "18                Card                       None  \n",
            "19           Apple Pay                       None  \n",
            "20           Apple Pay                       None  \n",
            "21                Card                 Restaurant  \n",
            "22                Card                       None  \n",
            "23                Card                       None  \n",
            "24           Apple Pay                 Restaurant  \n",
            "25                Card                       None  \n",
            "26            Internet                   Shopping  \n",
            "27           Apple Pay                   Shopping  \n",
            "28           Apple Pay                       None  \n",
            "29           Apple Pay                       None  \n",
            "30            Internet  Online Streaming Platform  \n"
          ]
        }
      ]
    },
    {
      "cell_type": "markdown",
      "source": [
        "**Categorizing some common service when dataset can't be reached**"
      ],
      "metadata": {
        "id": "IN2npWDUNzKu"
      }
    },
    {
      "cell_type": "code",
      "source": [
        "# Replace category for 'Electricity'\n",
        "finance_df.loc[finance_df['name'] == 'COMMONWEALTH EDISON COMPANY', 'category'] = 'Electricity'\n",
        "\n",
        "# Replace category for 'LAUNDRY'\n",
        "finance_df.loc[finance_df['name'] == 'SPINCYCLE LAUNDROMAT', 'category'] = 'LAUNDRY'\n",
        "finance_df.loc[finance_df['name'] == 'PAYRANGE MOBILE', 'category'] = 'LAUNDRY'\n",
        "\n",
        "# Replace category for 'Transport'\n",
        "finance_df.loc[finance_df['name'] == 'LYFT', 'category'] = 'Transport'\n",
        "finance_df.loc[finance_df['name'] == 'Uber Trip', 'category'] = 'Transport'\n",
        "\n",
        "# Replace category for 'Fitness'\n",
        "finance_df.loc[finance_df['name'] == 'LAFITNESS CORP INTL', 'category'] = 'Fitness'\n",
        "\n",
        "# Replace category for 'Shopping'\n",
        "finance_df.loc[finance_df['name'] == 'JEWEL OSCO', 'category'] = 'Shopping'\n",
        "finance_df.loc[finance_df['name'] == 'SAM\\'S CLUB', 'category'] = 'Shopping'\n",
        "\n",
        "print(finance_df)"
      ],
      "metadata": {
        "colab": {
          "base_uri": "https://localhost:8080/"
        },
        "id": "EOeOF69uOxRw",
        "outputId": "0a7516d6-b7ea-4d3e-ca10-a95d386eca88"
      },
      "execution_count": 44,
      "outputs": [
        {
          "output_type": "stream",
          "name": "stdout",
          "text": [
            "         date                                    name  amount  \\\n",
            "0  2024-03-25  DISPUTE CRREVERSAL -HERTZ CAR RENTAL $   72.88   \n",
            "1  2024-04-01                    COMMONWEALTH COMPANY   25.89   \n",
            "2  2024-04-01                                LOT AEPS    3.00   \n",
            "3  2024-04-02                                  SUBWAY   20.17   \n",
            "4  2024-04-02                               STARBUCKS    6.59   \n",
            "5  2024-04-02                          PATEL BROTHERS   61.90   \n",
            "6  2024-04-03                     LAFITNESS CORP INTL   10.00   \n",
            "7  2024-04-03                                 COMCAST   25.00   \n",
            "8  2024-04-07                             SPOTIFY USA    6.53   \n",
            "9  2024-04-07                                   JEWEL   20.11   \n",
            "10 2024-04-08                                  ARMORY    2.00   \n",
            "11 2024-04-08                                  DUNKIN    8.14   \n",
            "12 2024-04-08                                  TARGET    9.47   \n",
            "13 2024-04-09                                  TARGET   13.95   \n",
            "14 2024-04-09                                  TARGET   19.49   \n",
            "15 2024-04-10                     Amazon Prime Amazon    7.49   \n",
            "16 2024-04-12                              SAM'S CLUB  228.63   \n",
            "17 2024-04-12                              SAM'S CLUB   11.62   \n",
            "18 2024-04-12                           PARKINGMETER1    2.75   \n",
            "19 2024-04-13                                PAYRANGE   25.00   \n",
            "20 2024-04-13                        FARM SUPERMARKET   19.68   \n",
            "21 2024-04-13                     USMANIA FINE DINING   91.59   \n",
            "22 2024-04-14                            BOTANIC GARD   10.00   \n",
            "23 2024-04-16                                USCIS I-  470.00   \n",
            "24 2024-04-17                                CHIPOTLE   12.73   \n",
            "25 2024-04-18                    CHATGPT SUBSCRIPTION   21.80   \n",
            "26 2024-04-22                                   APPLE    2.99   \n",
            "27 2024-04-23                                   JEWEL   61.81   \n",
            "28 2024-04-24                              LAMEXICANA   47.05   \n",
            "29 2024-04-25                          PATEL BROTHERS   45.16   \n",
            "30 2024-04-28                                 NETFLIX   25.06   \n",
            "\n",
            "   MethodOfTransaction                   category  \n",
            "0            Apple Pay                       None  \n",
            "1                 Card                       None  \n",
            "2                 Card                       None  \n",
            "3            Apple Pay                 Restaurant  \n",
            "4                 Card                 Restaurant  \n",
            "5            Apple Pay                       None  \n",
            "6                 Card                    Fitness  \n",
            "7            Apple Pay                       None  \n",
            "8                 Card                       None  \n",
            "9            Apple Pay                   Shopping  \n",
            "10                Card                       None  \n",
            "11           Apple Pay                 Restaurant  \n",
            "12           Apple Pay                   Shopping  \n",
            "13           Apple Pay                   Shopping  \n",
            "14           Apple Pay                   Shopping  \n",
            "15            Internet  Online Streaming Platform  \n",
            "16                Card                   Shopping  \n",
            "17                Card                   Shopping  \n",
            "18                Card                       None  \n",
            "19           Apple Pay                       None  \n",
            "20           Apple Pay                       None  \n",
            "21                Card                 Restaurant  \n",
            "22                Card                       None  \n",
            "23                Card                       None  \n",
            "24           Apple Pay                 Restaurant  \n",
            "25                Card                       None  \n",
            "26            Internet                   Shopping  \n",
            "27           Apple Pay                   Shopping  \n",
            "28           Apple Pay                       None  \n",
            "29           Apple Pay                       None  \n",
            "30            Internet  Online Streaming Platform  \n"
          ]
        }
      ]
    },
    {
      "cell_type": "markdown",
      "source": [
        "# **Remaining assigned as 'Others'**"
      ],
      "metadata": {
        "id": "eihjVervgqSF"
      }
    },
    {
      "cell_type": "code",
      "source": [
        "finance_df['category'] = finance_df['category'].fillna('Others')\n",
        "print(finance_df)"
      ],
      "metadata": {
        "colab": {
          "base_uri": "https://localhost:8080/"
        },
        "id": "OAEQL1auP1vu",
        "outputId": "ea87f672-58c9-4811-c1a8-a98d58c9c285"
      },
      "execution_count": 45,
      "outputs": [
        {
          "output_type": "stream",
          "name": "stdout",
          "text": [
            "         date                                    name  amount  \\\n",
            "0  2024-03-25  DISPUTE CRREVERSAL -HERTZ CAR RENTAL $   72.88   \n",
            "1  2024-04-01                    COMMONWEALTH COMPANY   25.89   \n",
            "2  2024-04-01                                LOT AEPS    3.00   \n",
            "3  2024-04-02                                  SUBWAY   20.17   \n",
            "4  2024-04-02                               STARBUCKS    6.59   \n",
            "5  2024-04-02                          PATEL BROTHERS   61.90   \n",
            "6  2024-04-03                     LAFITNESS CORP INTL   10.00   \n",
            "7  2024-04-03                                 COMCAST   25.00   \n",
            "8  2024-04-07                             SPOTIFY USA    6.53   \n",
            "9  2024-04-07                                   JEWEL   20.11   \n",
            "10 2024-04-08                                  ARMORY    2.00   \n",
            "11 2024-04-08                                  DUNKIN    8.14   \n",
            "12 2024-04-08                                  TARGET    9.47   \n",
            "13 2024-04-09                                  TARGET   13.95   \n",
            "14 2024-04-09                                  TARGET   19.49   \n",
            "15 2024-04-10                     Amazon Prime Amazon    7.49   \n",
            "16 2024-04-12                              SAM'S CLUB  228.63   \n",
            "17 2024-04-12                              SAM'S CLUB   11.62   \n",
            "18 2024-04-12                           PARKINGMETER1    2.75   \n",
            "19 2024-04-13                                PAYRANGE   25.00   \n",
            "20 2024-04-13                        FARM SUPERMARKET   19.68   \n",
            "21 2024-04-13                     USMANIA FINE DINING   91.59   \n",
            "22 2024-04-14                            BOTANIC GARD   10.00   \n",
            "23 2024-04-16                                USCIS I-  470.00   \n",
            "24 2024-04-17                                CHIPOTLE   12.73   \n",
            "25 2024-04-18                    CHATGPT SUBSCRIPTION   21.80   \n",
            "26 2024-04-22                                   APPLE    2.99   \n",
            "27 2024-04-23                                   JEWEL   61.81   \n",
            "28 2024-04-24                              LAMEXICANA   47.05   \n",
            "29 2024-04-25                          PATEL BROTHERS   45.16   \n",
            "30 2024-04-28                                 NETFLIX   25.06   \n",
            "\n",
            "   MethodOfTransaction                   category  \n",
            "0            Apple Pay                     Others  \n",
            "1                 Card                     Others  \n",
            "2                 Card                     Others  \n",
            "3            Apple Pay                 Restaurant  \n",
            "4                 Card                 Restaurant  \n",
            "5            Apple Pay                     Others  \n",
            "6                 Card                    Fitness  \n",
            "7            Apple Pay                     Others  \n",
            "8                 Card                     Others  \n",
            "9            Apple Pay                   Shopping  \n",
            "10                Card                     Others  \n",
            "11           Apple Pay                 Restaurant  \n",
            "12           Apple Pay                   Shopping  \n",
            "13           Apple Pay                   Shopping  \n",
            "14           Apple Pay                   Shopping  \n",
            "15            Internet  Online Streaming Platform  \n",
            "16                Card                   Shopping  \n",
            "17                Card                   Shopping  \n",
            "18                Card                     Others  \n",
            "19           Apple Pay                     Others  \n",
            "20           Apple Pay                     Others  \n",
            "21                Card                 Restaurant  \n",
            "22                Card                     Others  \n",
            "23                Card                     Others  \n",
            "24           Apple Pay                 Restaurant  \n",
            "25                Card                     Others  \n",
            "26            Internet                   Shopping  \n",
            "27           Apple Pay                   Shopping  \n",
            "28           Apple Pay                     Others  \n",
            "29           Apple Pay                     Others  \n",
            "30            Internet  Online Streaming Platform  \n"
          ]
        }
      ]
    },
    {
      "cell_type": "markdown",
      "source": [
        "Visualization"
      ],
      "metadata": {
        "id": "9xOwhfrT72Dz"
      }
    },
    {
      "cell_type": "code",
      "source": [
        "import matplotlib.pyplot as plt\n",
        "import seaborn as sns\n",
        "\n",
        "plt.figure(figsize=(12, 6))\n",
        "sns.countplot(y='category', data=finance_df, order=finance_df['category'].value_counts().index)\n",
        "plt.xlabel('Count')\n",
        "plt.ylabel('Category')\n",
        "plt.title('Distribution of Categories')\n",
        "plt.show()"
      ],
      "metadata": {
        "colab": {
          "base_uri": "https://localhost:8080/",
          "height": 564
        },
        "id": "wTy3OO39QOap",
        "outputId": "0372878e-82d8-4d73-93bf-e15cc290d89f"
      },
      "execution_count": 46,
      "outputs": [
        {
          "output_type": "display_data",
          "data": {
            "text/plain": [
              "<Figure size 1200x600 with 1 Axes>"
            ],
            "image/png": "[encoded data removed]"
          },
          "metadata": {}
        }
      ]
    },
    {
      "cell_type": "code",
      "source": [
        "import matplotlib.pyplot as plt\n",
        "\n",
        "# Assuming 'df' is your DataFrame\n",
        "transaction_totals = finance_df.groupby('MethodOfTransaction')['amount'].sum()\n",
        "\n",
        "plt.figure(figsize=(10, 8))\n",
        "plt.pie(transaction_totals, labels=transaction_totals.index, autopct='%1.1f%%', startangle=90)\n",
        "plt.axis('equal')  # Equal aspect ratio ensures that pie is drawn as a circle\n",
        "plt.title('Total Cost of Transactions by Method of Transaction')\n",
        "plt.show()\n"
      ],
      "metadata": {
        "id": "crrIdfqV7ebi",
        "colab": {
          "base_uri": "https://localhost:8080/",
          "height": 675
        },
        "outputId": "80ef0200-a7e0-40de-a6fe-0901f06d75cc"
      },
      "execution_count": 47,
      "outputs": [
        {
          "output_type": "display_data",
          "data": {
            "text/plain": [
              "<Figure size 1000x800 with 1 Axes>"
            ],
            "image/png": "[encoded data removed]"
          },
          "metadata": {}
        }
      ]
    },
    {
      "cell_type": "code",
      "source": [
        "import matplotlib.pyplot as plt\n",
        "\n",
        "# Assuming 'df' is your DataFrame\n",
        "date_totals = finance_df.groupby('date')['amount'].sum()\n",
        "\n",
        "plt.figure(figsize=(12, 6))\n",
        "date_totals.plot(kind='bar')\n",
        "plt.xlabel('Date')\n",
        "plt.ylabel('Total Amount Spent')\n",
        "plt.title('Total Amount Spent on Each Date')\n",
        "plt.xticks(rotation=45)\n",
        "plt.tight_layout()\n",
        "plt.show()\n"
      ],
      "metadata": {
        "id": "tWm_7ecD742O",
        "colab": {
          "base_uri": "https://localhost:8080/",
          "height": 607
        },
        "outputId": "a86a37a0-f075-4c98-d085-588e41b5890c"
      },
      "execution_count": 48,
      "outputs": [
        {
          "output_type": "display_data",
          "data": {
            "text/plain": [
              "<Figure size 1200x600 with 1 Axes>"
            ],
            "image/png": "[encoded data removed]"
          },
          "metadata": {}
        }
      ]
    },
    {
      "cell_type": "code",
      "source": [
        "top_spending_names = finance_df.groupby('name')['amount'].sum().nlargest(15)\n",
        "print(top_spending_names)"
      ],
      "metadata": {
        "id": "AbA0Xuwg8Qlh",
        "colab": {
          "base_uri": "https://localhost:8080/"
        },
        "outputId": "ac0ebbf1-ca7e-45e5-99a6-b99218f0078d"
      },
      "execution_count": 49,
      "outputs": [
        {
          "output_type": "stream",
          "name": "stdout",
          "text": [
            "name\n",
            "USCIS I-                                  470.00\n",
            "SAM'S CLUB                                240.25\n",
            "PATEL BROTHERS                            107.06\n",
            "USMANIA FINE DINING                        91.59\n",
            "JEWEL                                      81.92\n",
            "DISPUTE CRREVERSAL -HERTZ CAR RENTAL $     72.88\n",
            "LAMEXICANA                                 47.05\n",
            "TARGET                                     42.91\n",
            "COMMONWEALTH COMPANY                       25.89\n",
            "NETFLIX                                    25.06\n",
            "COMCAST                                    25.00\n",
            "PAYRANGE                                   25.00\n",
            "CHATGPT SUBSCRIPTION                       21.80\n",
            "SUBWAY                                     20.17\n",
            "FARM SUPERMARKET                           19.68\n",
            "Name: amount, dtype: float64\n"
          ]
        }
      ]
    },
    {
      "cell_type": "code",
      "source": [
        "finance_df.dtypes"
      ],
      "metadata": {
        "id": "sA2O8NWYXyCE",
        "outputId": "262e72ff-d4ea-4194-e35a-6dd61a43e88f",
        "colab": {
          "base_uri": "https://localhost:8080/"
        }
      },
      "execution_count": 50,
      "outputs": [
        {
          "output_type": "execute_result",
          "data": {
            "text/plain": [
              "date                   datetime64[ns]\n",
              "name                           object\n",
              "amount                        float64\n",
              "MethodOfTransaction            object\n",
              "category                       object\n",
              "dtype: object"
            ]
          },
          "metadata": {},
          "execution_count": 50
        }
      ]
    },
    {
      "cell_type": "code",
      "source": [
        "top_spending_category = finance_df.groupby('category')['amount'].sum().nlargest(15)\n",
        "print(top_spending_category)\n"
      ],
      "metadata": {
        "colab": {
          "base_uri": "https://localhost:8080/"
        },
        "id": "OIOaj-yKg66w",
        "outputId": "f3640c59-ab2d-4260-e939-c141c4ceaa93"
      },
      "execution_count": 51,
      "outputs": [
        {
          "output_type": "stream",
          "name": "stdout",
          "text": [
            "category\n",
            "Others                       838.64\n",
            "Shopping                     368.07\n",
            "Restaurant                   139.22\n",
            "Online Streaming Platform     32.55\n",
            "Fitness                       10.00\n",
            "Name: amount, dtype: float64\n"
          ]
        }
      ]
    },
    {
      "cell_type": "markdown",
      "source": [
        "# **Sending to S3 bucket**"
      ],
      "metadata": {
        "id": "0Rhy-gRovmd_"
      }
    },
    {
      "cell_type": "code",
      "source": [
        "pip install boto3"
      ],
      "metadata": {
        "colab": {
          "base_uri": "https://localhost:8080/"
        },
        "id": "dNrofn3cwRJ_",
        "outputId": "2ad2f31c-ea5f-469d-80a5-9c51b1e027bb"
      },
      "execution_count": 52,
      "outputs": [
        {
          "output_type": "stream",
          "name": "stdout",
          "text": [
            "Collecting boto3\n",
            "  Downloading boto3-1.34.98-py3-none-any.whl (139 kB)\n",
            "\u001b[2K     \u001b[90m━━━━━━━━━━━━━━━━━━━━━━━━━━━━━━━━━━━━━━━━\u001b[0m \u001b[32m139.3/139.3 kB\u001b[0m \u001b[31m1.7 MB/s\u001b[0m eta \u001b[36m0:00:00\u001b[0m\n",
            "\u001b[?25hCollecting botocore<1.35.0,>=1.34.98 (from boto3)\n",
            "  Downloading botocore-1.34.98-py3-none-any.whl (12.2 MB)\n",
            "\u001b[2K     \u001b[90m━━━━━━━━━━━━━━━━━━━━━━━━━━━━━━━━━━━━━━━━\u001b[0m \u001b[32m12.2/12.2 MB\u001b[0m \u001b[31m41.8 MB/s\u001b[0m eta \u001b[36m0:00:00\u001b[0m\n",
            "\u001b[?25hCollecting jmespath<2.0.0,>=0.7.1 (from boto3)\n",
            "  Downloading jmespath-1.0.1-py3-none-any.whl (20 kB)\n",
            "Collecting s3transfer<0.11.0,>=0.10.0 (from boto3)\n",
            "  Downloading s3transfer-0.10.1-py3-none-any.whl (82 kB)\n",
            "\u001b[2K     \u001b[90m━━━━━━━━━━━━━━━━━━━━━━━━━━━━━━━━━━━━━━━━\u001b[0m \u001b[32m82.2/82.2 kB\u001b[0m \u001b[31m8.8 MB/s\u001b[0m eta \u001b[36m0:00:00\u001b[0m\n",
            "\u001b[?25hRequirement already satisfied: python-dateutil<3.0.0,>=2.1 in /usr/local/lib/python3.10/dist-packages (from botocore<1.35.0,>=1.34.98->boto3) (2.8.2)\n",
            "Requirement already satisfied: urllib3!=2.2.0,<3,>=1.25.4 in /usr/local/lib/python3.10/dist-packages (from botocore<1.35.0,>=1.34.98->boto3) (2.0.7)\n",
            "Requirement already satisfied: six>=1.5 in /usr/local/lib/python3.10/dist-packages (from python-dateutil<3.0.0,>=2.1->botocore<1.35.0,>=1.34.98->boto3) (1.16.0)\n",
            "Installing collected packages: jmespath, botocore, s3transfer, boto3\n",
            "Successfully installed boto3-1.34.98 botocore-1.34.98 jmespath-1.0.1 s3transfer-0.10.1\n"
          ]
        }
      ]
    },
    {
      "cell_type": "code",
      "source": [
        "import pandas as pd\n",
        "import boto3\n",
        "\n",
        "# Get user input for folder name\n",
        "folder_name = pdf_name\n",
        "\n",
        "# Assuming 'finance_df' is your DataFrame\n",
        "filename = f\"{folder_name}.csv\"  # Combine folder and filename\n",
        "\n",
        "# Configure AWS credentials (replace with your actual credentials)\n",
        "s3 = boto3.client('s3',\n",
        "                  aws_access_key_id='xxxxxxxxxx',\n",
        "                  aws_secret_access_key='xxxxxxxxxxxxx')\n",
        "\n",
        "# Convert DataFrame to CSV in-memory\n",
        "csv_data = finance_df.to_csv(None, index=False)  # Don't write index to CSV\n",
        "\n",
        "# Upload the CSV data to S3 bucket\n",
        "s3.put_object(Body=csv_data.encode('utf-8'), Bucket='wealth-management--credit-statement', Key=filename)\n",
        "\n",
        "print(f\"CSV file uploaded to s3://wealth-management--credit-statement/{filename}\")\n"
      ],
      "metadata": {
        "colab": {
          "base_uri": "https://localhost:8080/"
        },
        "id": "_Jp26cqqqiK9",
        "outputId": "7583ddd8-4a5b-44ea-eb5d-78c986bda087"
      },
      "execution_count": null,
      "outputs": [
        {
          "output_type": "stream",
          "name": "stdout",
          "text": [
            "CSV file uploaded to s3://wealth-management--credit-statement/04-28-2024.csv\n"
          ]
        }
      ]
    }
  ]
}